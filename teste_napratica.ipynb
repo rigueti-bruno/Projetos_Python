{
 "cells": [
  {
   "cell_type": "code",
   "execution_count": 8,
   "metadata": {},
   "outputs": [
    {
     "name": "stdout",
     "output_type": "stream",
     "text": [
      "tErrEmOtO\n"
     ]
    }
   ],
   "source": [
    "# Vogais Maiusculas\n",
    "def maivogal(palavra):\n",
    "    vogal = 'aeiou'\n",
    "    w = []\n",
    "    for i in palavra:\n",
    "        if i in vogal:\n",
    "            w.append(i.upper())\n",
    "        else:\n",
    "            w.append(i)\n",
    "    x = \"\".join(w)\n",
    "    return x\n",
    "\n",
    "print(maivogal(input()))\n",
    "\n"
   ]
  },
  {
   "cell_type": "code",
   "execution_count": null,
   "metadata": {},
   "outputs": [],
   "source": [
    "# Hex para Dec:\n",
    "def fordec(hexadec):\n",
    "    hex = {\"0\": 0, \"1\": 1, \"2\": 2, \"3\": 3, \"4\": 4, \"5\": 5, \"6\": 6, \"7\": 7, \"8\": 8, \"9\": 9, \"A\": 10, \"B\": 11, \"C\": 12, \"D\": 13, \"E\": 14, \"F\": 15}\n",
    "    y = 0\n",
    "    for i in range(len(hexadec)):\n",
    "        a = hex[hexadec[i]] * (16 ** (len(hexadec)-1-i))\n",
    "        y += a\n",
    "    return y\n",
    "        \n",
    "\n",
    "\n",
    "n = int(input())\n",
    "for i in range(n):\n",
    "    print(fordec(input()))"
   ]
  },
  {
   "cell_type": "code",
   "execution_count": null,
   "metadata": {},
   "outputs": [],
   "source": [
    "# Verificar se é impar ou par:\n",
    "def parimpar(n):\n",
    "    if n % 2 == 0:\n",
    "        return \"Par\"\n",
    "    else:\n",
    "        return \"Impar\"\n",
    "    \n",
    "print(parimpar(235))\n",
    "print(parimpar(240))"
   ]
  }
 ],
 "metadata": {
  "interpreter": {
   "hash": "02a0274d8add694ae22da6a9bb5eb47c091c997a6aad4ecec77bb5dd18990dd9"
  },
  "kernelspec": {
   "display_name": "Python 3.9.9 64-bit",
   "language": "python",
   "name": "python3"
  },
  "language_info": {
   "codemirror_mode": {
    "name": "ipython",
    "version": 3
   },
   "file_extension": ".py",
   "mimetype": "text/x-python",
   "name": "python",
   "nbconvert_exporter": "python",
   "pygments_lexer": "ipython3",
   "version": "3.9.9"
  },
  "orig_nbformat": 4
 },
 "nbformat": 4,
 "nbformat_minor": 2
}
