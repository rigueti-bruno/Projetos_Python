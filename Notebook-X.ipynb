{
 "cells": [
  {
   "cell_type": "code",
   "execution_count": 1,
   "metadata": {},
   "outputs": [
    {
     "name": "stdout",
     "output_type": "stream",
     "text": [
      "120\n"
     ]
    }
   ],
   "source": [
    "def fatorial(n):\n",
    "    f = 1\n",
    "    if n == 0:\n",
    "        f = 0\n",
    "    else:\n",
    "        while n > 0:\n",
    "            f *= n\n",
    "            n -= 1\n",
    "    return f\n",
    "\n",
    "x = fatorial(int(input(\"Insert a number:\" )))\n",
    "\n",
    "print(x)"
   ]
  },
  {
   "cell_type": "code",
   "execution_count": 1,
   "metadata": {},
   "outputs": [
    {
     "name": "stdout",
     "output_type": "stream",
     "text": [
      "0\n",
      "1\n",
      "2\n"
     ]
    }
   ],
   "source": [
    "contador = 0\n",
    "while contador <= 7:\n",
    "    print(contador)\n",
    "    contador = contador + 1\n",
    "    if contador == 3:\n",
    "        break"
   ]
  },
  {
   "cell_type": "code",
   "execution_count": 2,
   "metadata": {},
   "outputs": [
    {
     "name": "stdout",
     "output_type": "stream",
     "text": [
      "10 10 10 9\n"
     ]
    }
   ],
   "source": [
    "A = 10\n",
    "B = A\n",
    "C = 9\n",
    "D = C\n",
    "C = C + 1\n",
    "print(A, B, C, D)"
   ]
  },
  {
   "cell_type": "code",
   "execution_count": 7,
   "metadata": {},
   "outputs": [
    {
     "name": "stdout",
     "output_type": "stream",
     "text": [
      "3.5\n",
      "3.5\n"
     ]
    }
   ],
   "source": [
    "x = float(3.5)\n",
    "x2 = 3.5\n",
    "print(x)\n",
    "print(x2)"
   ]
  },
  {
   "cell_type": "code",
   "execution_count": 9,
   "metadata": {},
   "outputs": [
    {
     "name": "stdout",
     "output_type": "stream",
     "text": [
      "7475\n"
     ]
    }
   ],
   "source": [
    "dados = {'Machado ': 7575, 'Santos': 7475, 'Rui': 1675}\n",
    "print(dados['Santos'],)"
   ]
  },
  {
   "cell_type": "code",
   "execution_count": 11,
   "metadata": {},
   "outputs": [
    {
     "name": "stdout",
     "output_type": "stream",
     "text": [
      "Bruno\n"
     ]
    }
   ],
   "source": [
    "nome = input('Qual o seu nome? ')\n",
    "print(nome)"
   ]
  },
  {
   "cell_type": "code",
   "execution_count": null,
   "metadata": {},
   "outputs": [],
   "source": [
    "#teste\n"
   ]
  },
  {
   "cell_type": "code",
   "execution_count": 11,
   "metadata": {},
   "outputs": [
    {
     "name": "stdout",
     "output_type": "stream",
     "text": [
      "Acertos: 10 \n",
      "Percentual: 50.0%\n"
     ]
    }
   ],
   "source": [
    "# Comparação entre as Respostas e o Gabarito de um Teste\n",
    "\n",
    "vbruno = ['c','d','a','d','a','c','a','d','c','c','b','b','c','d','e','b','b','a','x','x'] # Array com as respostas\n",
    "vlet = ['a','d','b','d','a','c','e','d','b','c','d','c','c','d','e','b','d','c','a','b'] # Array com o gabarito\n",
    "\n",
    "y = 0\n",
    "\n",
    "for i in range(len(vbruno)):\n",
    "    if vbruno[i] == vlet[i]:\n",
    "        y += 1\n",
    "        \n",
    "perc = (y / len(vbruno)) * 100\n",
    "        \n",
    "        \n",
    "print(f'Acertos: {y} \\nPercentual: {perc}%')"
   ]
  },
  {
   "cell_type": "code",
   "execution_count": 6,
   "metadata": {},
   "outputs": [
    {
     "name": "stdout",
     "output_type": "stream",
     "text": [
      "x\n",
      "y\n"
     ]
    }
   ],
   "source": [
    "print('x' '\\ny')"
   ]
  },
  {
   "cell_type": "markdown",
   "metadata": {},
   "source": [
    "Equação Quadrática - Regra de Báskara"
   ]
  },
  {
   "cell_type": "code",
   "execution_count": 13,
   "metadata": {},
   "outputs": [
    {
     "name": "stdout",
     "output_type": "stream",
     "text": [
      "x'= -1.0\n",
      "x'' = -2.0\n"
     ]
    }
   ],
   "source": [
    "from math import sqrt\n",
    "\n",
    "a = float(input(\"Insira a \"))\n",
    "b = float(input(\"Insira b \"))\n",
    "c = float(input(\"Insira c \"))\n",
    "\n",
    "delta = (b ** 2) - (4 * a * c)\n",
    "\n",
    "if delta >= 0:\n",
    "    x1 = (-b + sqrt(delta)) / (2 * a)\n",
    "    x2 = (-b - sqrt(delta)) / (2 * a)\n",
    "    if x1 == x2:\n",
    "        print(f\"x' e x''= {x1}\")\n",
    "    else:\n",
    "        print(f\"x'= {x1}\"f\"\\nx'' = {x2}\")\n",
    "else:\n",
    "    print('Sem solução!')"
   ]
  },
  {
   "cell_type": "markdown",
   "metadata": {},
   "source": [
    "* Conectando e manipulando um Banco de Dados SQL:"
   ]
  },
  {
   "cell_type": "code",
   "execution_count": 7,
   "metadata": {},
   "outputs": [
    {
     "name": "stdout",
     "output_type": "stream",
     "text": [
      "   ID  Salario\n",
      "0   2   2750.0\n",
      "1   5   2420.0\n"
     ]
    }
   ],
   "source": [
    "import mysql.connector #biblioteca que conecta ao banco de dados\n",
    "from mysql.connector import Error\n",
    "import pandas as pd\n",
    "\n",
    "db_connection = mysql.connector.connect(host='localhost',database='curso_sql',user='root',password='Brb1508.') #conexão ao banco de dados\n",
    "cursor = db_connection.cursor() #conector do banco de dados\n",
    "consulta_sql = (\"\"\" \n",
    "                    select\n",
    "                        id, salario\n",
    "                    from\n",
    "                        funcionarios\n",
    "                    where\n",
    "                        salario > 2000\n",
    "               \"\"\") #query a ser executada no banco de dados\n",
    "cursor.execute(consulta_sql) #execução da query\n",
    "x = pd.DataFrame(cursor.fetchall(), columns=[\"ID\", \"Salario\"]) #atribuição do resultado da query a um dataframe do pandas\n",
    "print(x) #impressão do dataframe criado"
   ]
  },
  {
   "cell_type": "code",
   "execution_count": 8,
   "metadata": {},
   "outputs": [
    {
     "name": "stdout",
     "output_type": "stream",
     "text": [
      "  Departamento  Total_Salarios\n",
      "0     Jurídico          5170.0\n",
      "1           TI          3040.0\n"
     ]
    }
   ],
   "source": [
    "query = (\"\"\"\n",
    "            select\n",
    "                departamento,\n",
    "                sum(salario)\n",
    "            from\n",
    "                funcionarios\n",
    "            group by\n",
    "                departamento\n",
    "         \"\"\")\n",
    "cursor.execute(query)\n",
    "y = pd.DataFrame(cursor.fetchall(), columns=[\"Departamento\", \"Total_Salarios\"])\n",
    "print(y)"
   ]
  },
  {
   "cell_type": "code",
   "execution_count": 22,
   "metadata": {},
   "outputs": [
    {
     "data": {
      "text/plain": [
       "<AxesSubplot:>"
      ]
     },
     "execution_count": 22,
     "metadata": {},
     "output_type": "execute_result"
    },
    {
     "data": {
      "image/png": "[encoded data removed]",
      "text/plain": [
       "<Figure size 144x144 with 1 Axes>"
      ]
     },
     "metadata": {
      "needs_background": "light"
     },
     "output_type": "display_data"
    },
    {
     "data": {
      "image/png": "[encoded data removed]",
      "text/plain": [
       "<Figure size 144x144 with 1 Axes>"
      ]
     },
     "metadata": {
      "needs_background": "light"
     },
     "output_type": "display_data"
    }
   ],
   "source": [
    "import matplotlib.pyplot as plt\n",
    "plt.style.use('_mpl-gallery')\n",
    "y.plot.bar()\n",
    "y.plot.barh()"
   ]
  },
  {
   "cell_type": "markdown",
   "metadata": {},
   "source": [
    "Trabalhando com Datas e SQL:"
   ]
  },
  {
   "cell_type": "code",
   "execution_count": 45,
   "metadata": {},
   "outputs": [],
   "source": [
    "import mysql.connector #biblioteca que conecta ao banco de dados\n",
    "from mysql.connector import Error\n",
    "import pandas as pd\n",
    "import matplotlib.pyplot as plt\n",
    "db_connection = mysql.connector.connect(host='localhost',database='treinamentos',user='root',password='Brb1508.') #conexão ao banco de dados\n",
    "cursor = db_connection.cursor() #conector do banco de dados"
   ]
  },
  {
   "cell_type": "code",
   "execution_count": 46,
   "metadata": {},
   "outputs": [
    {
     "name": "stdout",
     "output_type": "stream",
     "text": [
      "   Semana  Quant_Alunos\n",
      "0      15             4\n",
      "1      16             3\n"
     ]
    },
    {
     "data": {
      "text/plain": [
       "<AxesSubplot:>"
      ]
     },
     "execution_count": 46,
     "metadata": {},
     "output_type": "execute_result"
    },
    {
     "data": {
      "image/png": "[encoded data removed]",
      "text/plain": [
       "<Figure size 432x288 with 1 Axes>"
      ]
     },
     "metadata": {
      "needs_background": "light"
     },
     "output_type": "display_data"
    }
   ],
   "source": [
    "consul1 = (\"\"\"\n",
    "            SELECT EXTRACT(WEEK FROM dat), Count(aluno_id)\n",
    "            FROM compras\n",
    "            GROUP BY EXTRACT(WEEK FROM dat)\n",
    "          \"\"\")\n",
    "cursor.execute(consul1)\n",
    "z = pd.DataFrame(cursor.fetchall(), columns=[\"Semana\", \"Quant_Alunos\"])\n",
    "print(z)\n",
    "z['Quant_Alunos'].plot.bar()"
   ]
  },
  {
   "cell_type": "code",
   "execution_count": null,
   "metadata": {},
   "outputs": [],
   "source": [
    "consul2 = \"\"\"\n",
    "            SELECT dat AS ultima_compra, DATEDIFF(CURRENT_DATE(), dat) AS dias_passados\n",
    "            FROM compras\n",
    "          \"\"\"\n",
    "cursor.execute(consul2)\n",
    "k = pd.DataFrame(cursor.fetchall(), columns=[\"ultima_compra\", \"dias_passados\"])\n",
    "print(k)"
   ]
  },
  {
   "cell_type": "code",
   "execution_count": 19,
   "metadata": {},
   "outputs": [
    {
     "name": "stdout",
     "output_type": "stream",
     "text": [
      "[16, 16, 16, 16]\n",
      "8.0\n"
     ]
    }
   ],
   "source": [
    "# Possível distância euclidiana:\n",
    "\n",
    "a = [1, 2, 3, 4]\n",
    "b = [5, 6, 7, 8]\n",
    "c = []\n",
    "\n",
    "for i in range(len(a)):\n",
    "    for j in range(len(b)):\n",
    "        if i == j:\n",
    "            x = a[i] - b[j]\n",
    "            x **= 2\n",
    "            c.append(x)\n",
    "     \n",
    "s = 0\n",
    "for k in c:\n",
    "    s += k\n",
    "\n",
    "y = s ** (1/2)\n",
    "print(y)\n",
    "    "
   ]
  },
  {
   "cell_type": "code",
   "execution_count": 3,
   "metadata": {},
   "outputs": [],
   "source": [
    "def fatorial(n):\n",
    "    f = 1\n",
    "    if n == 0:\n",
    "        f = 0\n",
    "    else:\n",
    "        while n > 0:\n",
    "            f *= n\n",
    "            n -= 1\n",
    "    return f\n",
    "\n",
    "arquivo = open('texto.txt', 'w')\n",
    "x = str(fatorial(int(input(\"Insert a number:\" ))))\n",
    "arquivo.write(x)\n",
    "arquivo.close()"
   ]
  },
  {
   "cell_type": "code",
   "execution_count": 1,
   "metadata": {},
   "outputs": [
    {
     "name": "stdout",
     "output_type": "stream",
     "text": [
      "Conversões:\n",
      "755 => Binario: 0b1011110011\n",
      "755 => Octadecimal: 0o1363\n",
      "755 => Hexadecimal: 0x2f3\n"
     ]
    }
   ],
   "source": [
    "# Decimal\n",
    "a = 755\n",
    "\n",
    "# Decimal => Binário\n",
    "b = bin(a)\n",
    "\n",
    "# Decimal => Octadecimal\n",
    "c = oct(a)\n",
    "\n",
    "# Decimal => Hexadecimal\n",
    "d = hex(a)\n",
    "\n",
    "print('Conversões:')\n",
    "print(f'{a} => Binario: {b}')\n",
    "print(f'{a} => Octadecimal: {c}')\n",
    "print(f'{a} => Hexadecimal: {d}')"
   ]
  },
  {
   "cell_type": "code",
   "execution_count": 3,
   "metadata": {},
   "outputs": [
    {
     "name": "stdout",
     "output_type": "stream",
     "text": [
      "Conversões:\n",
      "1011110011 => Decimal: 755\n",
      "1363 => Decimal: 755\n",
      "2f3 => Decimal: 755\n"
     ]
    }
   ],
   "source": [
    "# Binário => Decimal\n",
    "a = '1011110011'\n",
    "b = int(a, 2)\n",
    "\n",
    "# Octadecimal => Decimal\n",
    "c = '1363'\n",
    "d = int(c, 8)\n",
    "\n",
    "# Hexadecimal => Decimal\n",
    "e = '2f3'\n",
    "f = int(e, 16)\n",
    "\n",
    "print('Conversões:')\n",
    "print(f'{a} => Decimal: {b}')\n",
    "print(f'{c} => Decimal: {d}')\n",
    "print(f'{e} => Decimal: {f}')"
   ]
  },
  {
   "cell_type": "code",
   "execution_count": 6,
   "metadata": {},
   "outputs": [
    {
     "name": "stdout",
     "output_type": "stream",
     "text": [
      "Acertos: 10\n",
      "Desemprenho: 50.0%\n"
     ]
    }
   ],
   "source": [
    "# Conferir o Resultado do Teste:\n",
    "gabarito = ['a','d','b','d','a','c','e','d','b','c','d','c','c','d','e','b','d','c','a','b']\n",
    "respostas = ['c','d','a','d','a','c','a','d','c','c','b','b','c','d','e','b','b','a','c','a']\n",
    "\n",
    "resultado = 0\n",
    "\n",
    "for i in range(len(gabarito)):\n",
    "    if gabarito[i] == respostas[i]:\n",
    "        resultado += 1\n",
    "\n",
    "percentual = round((resultado / 20)*100, 2)\n",
    "\n",
    "print(f'Acertos: {resultado}\\nDesemprenho: {percentual}%')\n",
    "        "
   ]
  }
 ],
 "metadata": {
  "interpreter": {
   "hash": "02a0274d8add694ae22da6a9bb5eb47c091c997a6aad4ecec77bb5dd18990dd9"
  },
  "kernelspec": {
   "display_name": "Python 3.9.9 64-bit",
   "language": "python",
   "name": "python3"
  },
  "language_info": {
   "codemirror_mode": {
    "name": "ipython",
    "version": 3
   },
   "file_extension": ".py",
   "mimetype": "text/x-python",
   "name": "python",
   "nbconvert_exporter": "python",
   "pygments_lexer": "ipython3",
   "version": "3.9.9"
  },
  "orig_nbformat": 4
 },
 "nbformat": 4,
 "nbformat_minor": 2
}
