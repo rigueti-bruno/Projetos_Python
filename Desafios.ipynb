{
 "cells": [
  {
   "cell_type": "markdown",
   "metadata": {},
   "source": [
    "## Desafios Code Wars"
   ]
  },
  {
   "cell_type": "code",
   "execution_count": 33,
   "metadata": {},
   "outputs": [
    {
     "name": "stdout",
     "output_type": "stream",
     "text": [
      "TestedeTexto\n"
     ]
    }
   ],
   "source": [
    "# Desafio 1: Retirar os símbolos \"-\" e \"_\" do meio do texto:\n",
    "\n",
    "import re\n",
    "def juntar(texto):\n",
    "    a = texto.split(\"-\")\n",
    "    for i in range(len(a)):\n",
    "        a[i] = a[i].split(\"_\")\n",
    "        b = ''\n",
    "        for j in a[i]:\n",
    "            b = b + j\n",
    "            a[i] = b\n",
    "    c = ''\n",
    "    for k in a:\n",
    "        c = c + k\n",
    "    return c\n",
    "\n",
    "\n",
    "if __name__ == \"__main__\":\n",
    "\n",
    "    c = juntar(\"Teste-de_Texto\")\n",
    "    print(c)\n",
    "    \n",
    "    "
   ]
  },
  {
   "cell_type": "code",
   "execution_count": null,
   "metadata": {},
   "outputs": [],
   "source": [
    "#Desafio 2: Retornar a soma dos algarismos de um número inteiro até que o resultado seja de apenas 1 algarismo:\n",
    "def digital_root(n):\n",
    "    n = str(n)\n",
    "    x = 0\n",
    "    y = len(n)\n",
    "    while y >= 1:\n",
    "        for i in range(y):\n",
    "            x += int(n[i])\n",
    "        n = str(x)\n",
    "        y = len(n)\n",
    "    return n\n",
    "\n",
    "if __name__ == \"__main__\":\n",
    "    a = digital_root(16)\n",
    "    b = digital_root(942)\n",
    "    c = digital_root(132189)\n",
    "    d = digital_root(493193)\n",
    "    \n",
    "    print(a, b, c, d)"
   ]
  },
  {
   "cell_type": "code",
   "execution_count": 8,
   "metadata": {},
   "outputs": [
    {
     "name": "stdout",
     "output_type": "stream",
     "text": [
      "[3, 5]\n",
      "[11, 23]\n",
      "[2, 3, 4, 6, 8, 12]\n",
      "[5]\n",
      "13 is prime\n",
      "3 is prime\n",
      "29 is prime\n"
     ]
    }
   ],
   "source": [
    "#Desafio 3: Dado um número inteiro, retornar uma lista com os seus divisores maiores que 1. Se for número primo, retornar: x is prime - Solução aceita!\n",
    "\n",
    "def divisors(integer):\n",
    "    x = integer\n",
    "    y = []\n",
    "    for i in range(2, x):\n",
    "        d = x % i\n",
    "        if d == 0:\n",
    "            y.append(i)\n",
    "    if len(y) > 0:\n",
    "        return y\n",
    "    else:\n",
    "        return (f'{x} is prime')\n",
    "    \n",
    "\n",
    "if __name__ == \"__main__\":\n",
    "    z = divisors(15)\n",
    "    a = divisors(253)\n",
    "    b = divisors(24)\n",
    "    c = divisors(25)\n",
    "    d = divisors(13)\n",
    "    e = divisors(3)\n",
    "    f = divisors(29)\n",
    "    print(z)\n",
    "    print(a)\n",
    "    print(b)\n",
    "    print(c)\n",
    "    print(d)\n",
    "    print(e)\n",
    "    print(f)\n",
    "    "
   ]
  },
  {
   "cell_type": "code",
   "execution_count": 10,
   "metadata": {},
   "outputs": [
    {
     "name": "stdout",
     "output_type": "stream",
     "text": [
      "[3, 5]\n",
      "[11, 23]\n",
      "[2, 3, 4, 6, 8, 12]\n",
      "[5]\n",
      "13 is prime\n",
      "3 is prime\n",
      "29 is prime\n"
     ]
    }
   ],
   "source": [
    "#Desafio 3: Solução alternativa\n",
    "\n",
    "def divisors(num):\n",
    "    l = [i for i in range(2,num) if num%i == 0]\n",
    "    if len(l) == 0:\n",
    "        return str(num) + \" is prime\"\n",
    "    return l\n",
    "\n",
    "if __name__ == \"__main__\":\n",
    "    z = divisors(15)\n",
    "    a = divisors(253)\n",
    "    b = divisors(24)\n",
    "    c = divisors(25)\n",
    "    d = divisors(13)\n",
    "    e = divisors(3)\n",
    "    f = divisors(29)\n",
    "    print(z)\n",
    "    print(a)\n",
    "    print(b)\n",
    "    print(c)\n",
    "    print(d)\n",
    "    print(e)\n",
    "    print(f)"
   ]
  },
  {
   "cell_type": "code",
   "execution_count": 6,
   "metadata": {},
   "outputs": [
    {
     "name": "stdout",
     "output_type": "stream",
     "text": [
      "[5, 9, 4, 8]\n",
      "-4\n"
     ]
    }
   ],
   "source": [
    "import sys\n",
    "import math\n",
    "\n",
    "# Auto-generated code below aims at helping you parse\n",
    "# the standard input according to the problem statement.\n",
    "\n",
    "n = [5, -9, -4, -8]\n",
    "x = []\n",
    "for i in n:\n",
    "    t = int(i)\n",
    "    x.append(t)\n",
    "z = []\n",
    "for i in x:\n",
    "    y = abs(i - 0)\n",
    "    z.append(y)\n",
    "\n",
    "k = z.index(min(z))\n",
    "\n",
    "print(x[k])"
   ]
  },
  {
   "cell_type": "code",
   "execution_count": 13,
   "metadata": {},
   "outputs": [
    {
     "name": "stdout",
     "output_type": "stream",
     "text": [
      "toLove\n",
      "['Eu', 'sou', 'o', 'Batman']\n",
      "souo\n"
     ]
    }
   ],
   "source": [
    "# Concatena e imprime as palavras do meio de strings se o len for par e imprime a palavra do meio se o len for impar\n",
    "\n",
    "import sys\n",
    "import math\n",
    "import re\n",
    "\n",
    "# Auto-generated code below aims at helping you parse\n",
    "# the standard input according to the problem statement.\n",
    "\n",
    "s = input()\n",
    "x = s.split(' ')\n",
    "y = len(x)\n",
    "k = ''\n",
    "if y % 2 == 0:\n",
    "    z = int(y / 2)\n",
    "    k = x[z-1]+x[z]\n",
    "else:\n",
    "    z = int(((y - 1) / 2))\n",
    "    k = x[z]\n",
    "\n",
    "\n",
    "# Write an answer using print\n",
    "# To debug: print(\"Debug messages...\", file=sys.stderr, flush=True)\n",
    "\n",
    "print(\"toLove\")\n",
    "print(x)\n",
    "print(k)"
   ]
  },
  {
   "cell_type": "code",
   "execution_count": 14,
   "metadata": {},
   "outputs": [
    {
     "name": "stdout",
     "output_type": "stream",
     "text": [
      "dcba\n"
     ]
    }
   ],
   "source": [
    "# ordenar as letras de uma string de acordo com uma ordem definida pelo usuário:\n",
    "\n",
    "n = int(input())\n",
    "line = input()\n",
    "x = []\n",
    "for i in input().split():\n",
    "    index = int(i)\n",
    "    x.append(index)\n",
    "z = []\n",
    "if len(x) >= 1 and len(x) <= 9:\n",
    "    for i in x:\n",
    "     y = line[i-1]\n",
    "     z.append(y)\n",
    "     \n",
    "print(''.join(z))\n"
   ]
  },
  {
   "cell_type": "code",
   "execution_count": 25,
   "metadata": {},
   "outputs": [
    {
     "name": "stdout",
     "output_type": "stream",
     "text": [
      "3\n"
     ]
    }
   ],
   "source": [
    "# O código verifica quantas jarras de suco são possíveis ser feitas dada uma sequência de caracteres indicando a quantidade de frutas:\n",
    "n = int(input())\n",
    "fruit = []\n",
    "quant = []\n",
    "for i in range(n):\n",
    "    inputs = input().split()\n",
    "    c = inputs[0]\n",
    "    fruit.append(c)\n",
    "    g = int(inputs[1])\n",
    "    quant.append(g)\n",
    "fruits = input()\n",
    "k = []\n",
    "for j in fruit:\n",
    "    y = fruits.count(j)\n",
    "    z = quant[fruit.index(j)]\n",
    "    s = int(y / z)\n",
    "    k.append(s)\n",
    "b = 0\n",
    "for a in k:\n",
    "    b += a\n",
    "d = int(b / len(k))\n",
    "\n",
    "print(d)"
   ]
  },
  {
   "cell_type": "code",
   "execution_count": 3,
   "metadata": {},
   "outputs": [
    {
     "name": "stdout",
     "output_type": "stream",
     "text": [
      "A=12.5664\n"
     ]
    }
   ],
   "source": [
    "raio = float(input())\n",
    "n = 3.14159\n",
    "area = round((n * raio ** 2), 4)\n",
    "\n",
    "print(f\"A={area}\")"
   ]
  },
  {
   "cell_type": "code",
   "execution_count": 15,
   "metadata": {},
   "outputs": [
    {
     "name": "stdout",
     "output_type": "stream",
     "text": [
      "A=70685.7750\n"
     ]
    }
   ],
   "source": [
    "# Formatação Numérica - {area:.4f} - area: variavel com o valor, .4f - numero da casas decimais\n",
    "raio = float(input())\n",
    "n = 3.14159\n",
    "raio2 = raio ** 2\n",
    "area = round(n * raio2, 4)\n",
    "print(f\"A={area:.4f}\")"
   ]
  },
  {
   "cell_type": "code",
   "execution_count": 12,
   "metadata": {},
   "outputs": [
    {
     "name": "stdout",
     "output_type": "stream",
     "text": [
      "12.5664\n",
      "31819.3103\n",
      "70685.775\n"
     ]
    }
   ],
   "source": [
    "def area(raio):\n",
    "    n = 3.14159\n",
    "    raio2 = raio ** 2\n",
    "    area = round(n * raio2, 4)\n",
    "    return area\n",
    "\n",
    "x = int(input())\n",
    "for i in range(x):\n",
    "    print(area(float(input())))"
   ]
  },
  {
   "cell_type": "code",
   "execution_count": 16,
   "metadata": {},
   "outputs": [
    {
     "name": "stdout",
     "output_type": "stream",
     "text": [
      "MEDIA = 6.43182\n"
     ]
    }
   ],
   "source": [
    "A = float(input())\n",
    "while A < 0 and A > 10:\n",
    "    A = float(input())\n",
    "B = float(input())\n",
    "while B < 0 and B > 10:\n",
    "    B = float(input())\n",
    "\n",
    "MEDIA = ((A * 3.5) + (B * 7.5)) / 11\n",
    "\n",
    "print(f\"MEDIA = {MEDIA:.5f}\")"
   ]
  },
  {
   "cell_type": "code",
   "execution_count": 7,
   "metadata": {},
   "outputs": [
    {
     "name": "stdout",
     "output_type": "stream",
     "text": [
      "MEDIA = 7.5\n"
     ]
    }
   ],
   "source": [
    "# Media de 3 Numeros:\n",
    "\n",
    "A = float(input())\n",
    "while A < 0 and A > 10:\n",
    "    A = float(input())\n",
    "B = float(input())\n",
    "while B < 0 and B > 10:\n",
    "    B = float(input())\n",
    "C = float(input())\n",
    "while C < 0 and C > 10:\n",
    "    C = float(input())\n",
    "\n",
    "MEDIA = ((A * 2) + (B * 3) + (C * 5)) / 10\n",
    "\n",
    "print(f'MEDIA = {MEDIA:.1f}')"
   ]
  },
  {
   "cell_type": "code",
   "execution_count": 10,
   "metadata": {},
   "outputs": [
    {
     "name": "stdout",
     "output_type": "stream",
     "text": [
      "DIFERENCA = 86\n"
     ]
    }
   ],
   "source": [
    "# Diferença entre 4 números:\n",
    "\n",
    "A = int(input())\n",
    "B = int(input())\n",
    "C = int(input())\n",
    "D = int(input())\n",
    "\n",
    "DIFERENCA = (A * B) - (C * D)\n",
    "\n",
    "print(f'DIFERENCA = {DIFERENCA}')"
   ]
  },
  {
   "cell_type": "code",
   "execution_count": 14,
   "metadata": {},
   "outputs": [
    {
     "name": "stdout",
     "output_type": "stream",
     "text": [
      "NUMBER = 6\n",
      "SALARY = U$ 2254.75\n"
     ]
    }
   ],
   "source": [
    "# Calcular Salario\n",
    "id = int(input())\n",
    "horastrab = int(input())\n",
    "valhora = float(input())\n",
    "\n",
    "salario = horastrab * valhora\n",
    "\n",
    "print(f'NUMBER = {id}\\nSALARY = U$ {salario:.2f}')"
   ]
  },
  {
   "cell_type": "code",
   "execution_count": 6,
   "metadata": {},
   "outputs": [
    {
     "ename": "KeyboardInterrupt",
     "evalue": "",
     "output_type": "error",
     "traceback": [
      "\u001b[1;31m---------------------------------------------------------------------------\u001b[0m",
      "\u001b[1;31mKeyboardInterrupt\u001b[0m                         Traceback (most recent call last)",
      "\u001b[1;32mc:\\GitHub\\Projetos_Python\\Desafios.ipynb Célula: 17\u001b[0m in \u001b[0;36m<cell line: 15>\u001b[1;34m()\u001b[0m\n\u001b[0;32m     <a href='vscode-notebook-cell:/c%3A/GitHub/Projetos_Python/Desafios.ipynb#ch0000016?line=14'>15</a>\u001b[0m \u001b[39mfor\u001b[39;00m i \u001b[39min\u001b[39;00m \u001b[39mrange\u001b[39m(n):\n\u001b[0;32m     <a href='vscode-notebook-cell:/c%3A/GitHub/Projetos_Python/Desafios.ipynb#ch0000016?line=15'>16</a>\u001b[0m     sequencias \u001b[39m=\u001b[39m (\u001b[39minput\u001b[39m() \u001b[39m+\u001b[39m\u001b[39m'\u001b[39m\u001b[39m\\n\u001b[39;00m\u001b[39m'\u001b[39m \u001b[39m+\u001b[39m \u001b[39minput\u001b[39m())\u001b[39m.\u001b[39msplit(\u001b[39m'\u001b[39m\u001b[39m\\n\u001b[39;00m\u001b[39m'\u001b[39m)\n\u001b[1;32m---> <a href='vscode-notebook-cell:/c%3A/GitHub/Projetos_Python/Desafios.ipynb#ch0000016?line=16'>17</a>\u001b[0m     \u001b[39mprint\u001b[39m(compRNA(sequencias))\n",
      "\u001b[1;32mc:\\GitHub\\Projetos_Python\\Desafios.ipynb Célula: 17\u001b[0m in \u001b[0;36mcompRNA\u001b[1;34m(seq)\u001b[0m\n\u001b[0;32m      <a href='vscode-notebook-cell:/c%3A/GitHub/Projetos_Python/Desafios.ipynb#ch0000016?line=7'>8</a>\u001b[0m     diferencas \u001b[39m=\u001b[39m \u001b[39m1\u001b[39m    \n\u001b[0;32m      <a href='vscode-notebook-cell:/c%3A/GitHub/Projetos_Python/Desafios.ipynb#ch0000016?line=8'>9</a>\u001b[0m     \u001b[39mif\u001b[39;00m seq[\u001b[39m0\u001b[39m][i] \u001b[39m!=\u001b[39m \u001b[39m'\u001b[39m\u001b[39m.\u001b[39m\u001b[39m'\u001b[39m \u001b[39mand\u001b[39;00m seq[\u001b[39m1\u001b[39m][i] \u001b[39m!=\u001b[39m \u001b[39m'\u001b[39m\u001b[39m.\u001b[39m\u001b[39m'\u001b[39m \u001b[39mand\u001b[39;00m seq[\u001b[39m0\u001b[39m][i] \u001b[39m!=\u001b[39m seq[\u001b[39m1\u001b[39m][i]:\n\u001b[1;32m---> <a href='vscode-notebook-cell:/c%3A/GitHub/Projetos_Python/Desafios.ipynb#ch0000016?line=9'>10</a>\u001b[0m         \u001b[39mwhile\u001b[39;00m seq[\u001b[39m0\u001b[39;49m][i\u001b[39m+\u001b[39;49m\u001b[39m1\u001b[39;49m] \u001b[39m!=\u001b[39;49m seq[\u001b[39m1\u001b[39;49m][i\u001b[39m+\u001b[39;49m\u001b[39m1\u001b[39;49m]:\n\u001b[0;32m     <a href='vscode-notebook-cell:/c%3A/GitHub/Projetos_Python/Desafios.ipynb#ch0000016?line=10'>11</a>\u001b[0m             diferencas \u001b[39m+\u001b[39m\u001b[39m=\u001b[39m \u001b[39m1\u001b[39m\n\u001b[0;32m     <a href='vscode-notebook-cell:/c%3A/GitHub/Projetos_Python/Desafios.ipynb#ch0000016?line=11'>12</a>\u001b[0m \u001b[39mreturn\u001b[39;00m \u001b[39mf\u001b[39m\u001b[39m'\u001b[39m\u001b[39mMutações: \u001b[39m\u001b[39m{\u001b[39;00mdiferencas\u001b[39m}\u001b[39;00m\u001b[39m'\u001b[39m\n",
      "\u001b[1;31mKeyboardInterrupt\u001b[0m: "
     ]
    }
   ],
   "source": [
    "#sequencias = (input() +'\\n' + input()).split('\\n')\n",
    "#print(sequencias)\n",
    "\n",
    "#print(len(sequencias[0]))\n",
    "\n",
    "def compRNA(seq):\n",
    "    for i in range(len(seq[0])):\n",
    "        diferencas = 1    \n",
    "        if seq[0][i] != '.' and seq[1][i] != '.' and seq[0][i] != seq[1][i]:\n",
    "            while seq[0][i+1] != seq[1][i+1]:\n",
    "                diferencas += 1\n",
    "        return f'Mutações: {diferencas}'\n",
    "\n",
    "n = int(input())\n",
    "for i in range(n):\n",
    "    sequencias = (input() +'\\n' + input()).split('\\n')\n",
    "    print(compRNA(sequencias))\n"
   ]
  }
 ],
 "metadata": {
  "kernelspec": {
   "display_name": "Python 3.10.5 64-bit",
   "language": "python",
   "name": "python3"
  },
  "language_info": {
   "codemirror_mode": {
    "name": "ipython",
    "version": 3
   },
   "file_extension": ".py",
   "mimetype": "text/x-python",
   "name": "python",
   "nbconvert_exporter": "python",
   "pygments_lexer": "ipython3",
   "version": "3.10.5"
  },
  "orig_nbformat": 4,
  "vscode": {
   "interpreter": {
    "hash": "ed3943dba37f3ed717092a780584c496f36863d6c99891baccd6632ecc02cdda"
   }
  }
 },
 "nbformat": 4,
 "nbformat_minor": 2
}
