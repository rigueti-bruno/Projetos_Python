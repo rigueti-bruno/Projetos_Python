{
 "cells": [
  {
   "cell_type": "markdown",
   "metadata": {},
   "source": [
    "## Desafios Code Wars"
   ]
  },
  {
   "cell_type": "code",
   "execution_count": 33,
   "metadata": {},
   "outputs": [
    {
     "name": "stdout",
     "output_type": "stream",
     "text": [
      "TestedeTexto\n"
     ]
    }
   ],
   "source": [
    "# Desafio 1: Retirar os símbolos \"-\" e \"_\" do meio do texto:\n",
    "\n",
    "import re\n",
    "def juntar(texto):\n",
    "    a = texto.split(\"-\")\n",
    "    for i in range(len(a)):\n",
    "        a[i] = a[i].split(\"_\")\n",
    "        b = ''\n",
    "        for j in a[i]:\n",
    "            b = b + j\n",
    "            a[i] = b\n",
    "    c = ''\n",
    "    for k in a:\n",
    "        c = c + k\n",
    "    return c\n",
    "\n",
    "\n",
    "if __name__ == \"__main__\":\n",
    "\n",
    "    c = juntar(\"Teste-de_Texto\")\n",
    "    print(c)\n",
    "    \n",
    "    "
   ]
  },
  {
   "cell_type": "code",
   "execution_count": null,
   "metadata": {},
   "outputs": [],
   "source": [
    "#Desafio 2: Retornar a soma dos algarismos de um número inteiro até que o resultado seja de apenas 1 algarismo:\n",
    "def digital_root(n):\n",
    "    n = str(n)\n",
    "    x = 0\n",
    "    y = len(n)\n",
    "    while y >= 1:\n",
    "        for i in range(y):\n",
    "            x += int(n[i])\n",
    "        n = str(x)\n",
    "        y = len(n)\n",
    "    return n\n",
    "\n",
    "if __name__ == \"__main__\":\n",
    "    a = digital_root(16)\n",
    "    b = digital_root(942)\n",
    "    c = digital_root(132189)\n",
    "    d = digital_root(493193)\n",
    "    \n",
    "    print(a, b, c, d)"
   ]
  },
  {
   "cell_type": "code",
   "execution_count": 8,
   "metadata": {},
   "outputs": [
    {
     "name": "stdout",
     "output_type": "stream",
     "text": [
      "[3, 5]\n",
      "[11, 23]\n",
      "[2, 3, 4, 6, 8, 12]\n",
      "[5]\n",
      "13 is prime\n",
      "3 is prime\n",
      "29 is prime\n"
     ]
    }
   ],
   "source": [
    "#Desafio 3: Dado um número inteiro, retornar uma lista com os seus divisores maiores que 1. Se for número primo, retornar: x is prime - Solução aceita!\n",
    "\n",
    "def divisors(integer):\n",
    "    x = integer\n",
    "    y = []\n",
    "    for i in range(2, x):\n",
    "        d = x % i\n",
    "        if d == 0:\n",
    "            y.append(i)\n",
    "    if len(y) > 0:\n",
    "        return y\n",
    "    else:\n",
    "        return (f'{x} is prime')\n",
    "    \n",
    "\n",
    "if __name__ == \"__main__\":\n",
    "    z = divisors(15)\n",
    "    a = divisors(253)\n",
    "    b = divisors(24)\n",
    "    c = divisors(25)\n",
    "    d = divisors(13)\n",
    "    e = divisors(3)\n",
    "    f = divisors(29)\n",
    "    print(z)\n",
    "    print(a)\n",
    "    print(b)\n",
    "    print(c)\n",
    "    print(d)\n",
    "    print(e)\n",
    "    print(f)\n",
    "    "
   ]
  },
  {
   "cell_type": "code",
   "execution_count": 10,
   "metadata": {},
   "outputs": [
    {
     "name": "stdout",
     "output_type": "stream",
     "text": [
      "[3, 5]\n",
      "[11, 23]\n",
      "[2, 3, 4, 6, 8, 12]\n",
      "[5]\n",
      "13 is prime\n",
      "3 is prime\n",
      "29 is prime\n"
     ]
    }
   ],
   "source": [
    "#Desafio 3: Solução alternativa\n",
    "\n",
    "def divisors(num):\n",
    "    l = [i for i in range(2,num) if num%i == 0]\n",
    "    if len(l) == 0:\n",
    "        return str(num) + \" is prime\"\n",
    "    return l\n",
    "\n",
    "if __name__ == \"__main__\":\n",
    "    z = divisors(15)\n",
    "    a = divisors(253)\n",
    "    b = divisors(24)\n",
    "    c = divisors(25)\n",
    "    d = divisors(13)\n",
    "    e = divisors(3)\n",
    "    f = divisors(29)\n",
    "    print(z)\n",
    "    print(a)\n",
    "    print(b)\n",
    "    print(c)\n",
    "    print(d)\n",
    "    print(e)\n",
    "    print(f)"
   ]
  }
 ],
 "metadata": {
  "interpreter": {
   "hash": "d37f61ffe7d685a1ac48b1d7774f291cdee1834edd502e25b8d0651861a5e209"
  },
  "kernelspec": {
   "display_name": "Python 3.9.9 64-bit",
   "language": "python",
   "name": "python3"
  },
  "language_info": {
   "codemirror_mode": {
    "name": "ipython",
    "version": 3
   },
   "file_extension": ".py",
   "mimetype": "text/x-python",
   "name": "python",
   "nbconvert_exporter": "python",
   "pygments_lexer": "ipython3",
   "version": "3.9.9"
  },
  "orig_nbformat": 4
 },
 "nbformat": 4,
 "nbformat_minor": 2
}
