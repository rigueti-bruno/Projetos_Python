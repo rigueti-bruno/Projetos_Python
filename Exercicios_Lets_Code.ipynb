{
 "cells": [
  {
   "cell_type": "markdown",
   "metadata": {},
   "source": [
    "#### 1)\n",
    "- Gerar Lista com 10 números aleatórios entre 1 e 100\n",
    "- Imprimir os valores máximo, mínimo, média e soma dos valores da lista"
   ]
  },
  {
   "cell_type": "code",
   "execution_count": null,
   "metadata": {},
   "outputs": [],
   "source": [
    "import random as rd\n",
    "import statistics as st\n",
    "\n",
    "# Gerando a Lista Aleatória:\n",
    "\n",
    "num = []\n",
    "for i in range(10):\n",
    "    i = int(round(rd.uniform(1, 100), 0))\n",
    "    num.append(i)\n",
    "\n",
    "# Calculando as Medidas:\n",
    "\n",
    "val_min = min(num) # menor valor\n",
    "val_mai= max(num) # maior valor\n",
    "med = st.fmean(num) # media\n",
    "soma = sum(num) # soma\n",
    "\n",
    "# Gerando o Resultado:\n",
    "print(f\"Lista: {num}\")\n",
    "print(f\"Medidas:\\nMenor = {val_min}\\nMaior = {val_mai}\\nMedia = {med}\\nSoma = {soma}\", end=\"\")"
   ]
  },
  {
   "cell_type": "markdown",
   "metadata": {},
   "source": [
    "#### 2)\n",
    "- Receber uma Expressão Numérica e Executar o seu Cálculo\n",
    "- Simplificar o resultado"
   ]
  },
  {
   "cell_type": "code",
   "execution_count": null,
   "metadata": {},
   "outputs": [],
   "source": [
    "def calcexp(express):\n",
    "    import math as mt\n",
    "\n",
    "    # Obetendo a Expressão:\n",
    "    express = express.split()\n",
    "\n",
    "    # Decompondo a Expressão:\n",
    "    part1 = express[0].split(\"/\")\n",
    "    part2 = express[len(express)-1].split(\"/\")\n",
    "    num1 = int(part1[0])\n",
    "    den1 = int(part1[1])\n",
    "    num2 = int(part2[0])\n",
    "    den2 = int(part2[1])\n",
    "  \n",
    "    # Realizando os Cálculos:\n",
    "    if express[1] == '+':\n",
    "        denom = mt.lcm(den1, den2)\n",
    "        nume = int((denom/den1*num1) + (denom/den2*num2))       \n",
    "    if express[1] == '-':\n",
    "        denom = mt.lcm(den1, den2)\n",
    "        nume = int((denom/den1*num1) - (denom/den2*num2))        \n",
    "    if express[1] == '*':\n",
    "        denom = den1 * den2\n",
    "        nume = num1 * num2        \n",
    "    if express[1] == '/':\n",
    "        denom = den1 * num2\n",
    "        nume = num1 * den2        \n",
    "        \n",
    "    # Simplificando as Partes:\n",
    "    mdc = mt.gcd(nume, denom)\n",
    "\n",
    "    if mdc != 0:\n",
    "        denoms = int(denom/mdc)\n",
    "        numes = int(nume/mdc)        \n",
    "    else:\n",
    "        denoms = denom\n",
    "        numes = nume\n",
    "        \n",
    "    # Gerando o Resultado:\n",
    "    resul = str(nume) + \"/\" + str(denom) + \" = \" + str(numes) + \"/\" + str(denoms)\n",
    "    return resul\n",
    "    \n",
    "print(calcexp(\"1/2 + 3/4\"))\n",
    "print(calcexp(\"1/2 - 3/4\"))\n",
    "print(calcexp(\"2/3 * 6/6\"))\n",
    "print(calcexp(\"1/2 / 3/4\"))\n",
    "\n"
   ]
  },
  {
   "cell_type": "code",
   "execution_count": null,
   "metadata": {},
   "outputs": [],
   "source": [
    "# Versão Alternativa:\n",
    "\n",
    "def calcexp(express):\n",
    "    import math as mt\n",
    "\n",
    "    # Obetendo a Expressão:\n",
    "    express = express.split()\n",
    "\n",
    "    # Decompondo a Expressão:\n",
    "    part1 = express[0].split(\"/\")\n",
    "    part2 = express[len(express)-1].split(\"/\")\n",
    "    num1 = int(part1[0])\n",
    "    den1 = int(part1[1])\n",
    "    num2 = int(part2[0])\n",
    "    den2 = int(part2[1])\n",
    "  \n",
    "    # Realizando os Cálculos:\n",
    "    if express[1] == '+':\n",
    "        denom = den1 * den2\n",
    "        nume = int((denom / den1 * num1) + (denom / den2 * num2))\n",
    "    if express[1] == '-':\n",
    "        denom = den1 * den2\n",
    "        nume = int((denom / den1 * num1) - (denom / den2 * num2))\n",
    "    if express[1] == '*':\n",
    "        denom = den1 * den2\n",
    "        nume = num1 * num2        \n",
    "    if express[1] == '/':\n",
    "        denom = den1 * num2\n",
    "        nume = num1 * den2        \n",
    "        \n",
    "    # Simplificando as Partes:\n",
    "    mdc = mt.gcd(nume, denom)\n",
    "\n",
    "    if mdc != 0:\n",
    "        denoms = int(denom/mdc)\n",
    "        numes = int(nume/mdc)        \n",
    "    else:\n",
    "        denoms = denom\n",
    "        numes = nume\n",
    "        \n",
    "    # Gerando o Resultado:\n",
    "    resul = str(nume) + \"/\" + str(denom) + \" = \" + str(numes) + \"/\" + str(denoms)\n",
    "    return resul\n",
    "    \n",
    "# Obtendo o Resultado:\n",
    "n = int(input())\n",
    "for i in range(n):\n",
    "    print(calcexp(input()))"
   ]
  },
  {
   "cell_type": "markdown",
   "metadata": {},
   "source": [
    "#### 3)\n",
    "- Criar Dicionário que receba e armazene nome, idade e email de uma pessoa:"
   ]
  },
  {
   "cell_type": "code",
   "execution_count": 9,
   "metadata": {},
   "outputs": [
    {
     "name": "stdout",
     "output_type": "stream",
     "text": [
      "{'nome': 'Bruno', 'idade': 35, 'email': 'abc@def.br'}\n"
     ]
    }
   ],
   "source": [
    "def dicont(nome, idade, email):\n",
    "    contat = {'nome': nome, 'idade': idade, 'email': email}\n",
    "    return contat\n",
    "\n",
    "print(dicont('Bruno', 35, 'abc@def.br'))"
   ]
  },
  {
   "cell_type": "code",
   "execution_count": 10,
   "metadata": {},
   "outputs": [
    {
     "name": "stdout",
     "output_type": "stream",
     "text": [
      "{'Bruno': (35, 'abc@def.br')}\n"
     ]
    }
   ],
   "source": [
    "def dicont(nome, idade, email):\n",
    "    contat = {}\n",
    "    contat[nome] = idade, email\n",
    "    return contat\n",
    "\n",
    "print(dicont('Bruno', 35, 'abc@def.br'))"
   ]
  },
  {
   "cell_type": "code",
   "execution_count": 12,
   "metadata": {},
   "outputs": [
    {
     "name": "stdout",
     "output_type": "stream",
     "text": [
      "{'nome': 'Bruno', 'idade': ' 35', 'email': ' abc@def.br'}\n"
     ]
    }
   ],
   "source": [
    "def dicont(dados):\n",
    "    nome = dados[0]\n",
    "    idade = dados[1]\n",
    "    email = dados[2]\n",
    "    contat = {'nome': nome, 'idade': idade, 'email': email}\n",
    "    return contat\n",
    "\n",
    "print(dicont(input().split(',')))"
   ]
  },
  {
   "cell_type": "code",
   "execution_count": 11,
   "metadata": {},
   "outputs": [
    {
     "name": "stdout",
     "output_type": "stream",
     "text": [
      "{'Bruno': (' 35', ' abc@def.br')}\n"
     ]
    }
   ],
   "source": [
    "def dicont(dados):\n",
    "    contat = {}\n",
    "    nome = dados[0]\n",
    "    idade = dados[1]\n",
    "    email = dados[2]\n",
    "    contat[nome] = idade, email\n",
    "    return contat\n",
    "\n",
    "print(dicont(input().split(',')))"
   ]
  },
  {
   "cell_type": "code",
   "execution_count": 14,
   "metadata": {},
   "outputs": [
    {
     "name": "stdout",
     "output_type": "stream",
     "text": [
      "{'Bruno': (' 35', ' abc@def.br')}\n"
     ]
    }
   ],
   "source": [
    "def dicont(dados):\n",
    "    contat = {}\n",
    "    nome, idade, email = dados\n",
    "    contat[nome] = idade, email\n",
    "    return contat\n",
    "\n",
    "print(dicont(input().split(',')))"
   ]
  },
  {
   "cell_type": "markdown",
   "metadata": {},
   "source": [
    "#### 4)\n",
    "- Criar um Jogo Pedra, Papel e Tesoura"
   ]
  },
  {
   "cell_type": "code",
   "execution_count": 8,
   "metadata": {},
   "outputs": [
    {
     "name": "stdout",
     "output_type": "stream",
     "text": [
      "Vence o Jogador 2\n"
     ]
    }
   ],
   "source": [
    "def jokenpo(val1, val2):\n",
    "    pedra = 0\n",
    "    papel = 1\n",
    "    tesoura = 2\n",
    "    \n",
    "    if val1 == val2:\n",
    "        return \"Empate\"\n",
    "    elif val1 == pedra and val2 == tesoura:\n",
    "        return \"Vence o Jogador 1\"\n",
    "    elif val1 == tesoura and val2 == papel:\n",
    "        return \"Vence o Jogador 1\"\n",
    "    elif val1 == papel and val2 == pedra:\n",
    "        return \"Vence o Jogador 1\"\n",
    "    else:\n",
    "        return \"Vence o Jogador 2\"\n",
    "\n",
    "entradas = input().split(\", \")\n",
    "jogador1, jogador2 = list(map(int, entradas))\n",
    "\n",
    "print(jokenpo(jogador1, jogador2))"
   ]
  },
  {
   "cell_type": "code",
   "execution_count": null,
   "metadata": {},
   "outputs": [],
   "source": [
    "def jokenpo(val1, val2):\n",
    "    pedra = 0\n",
    "    papel = 1\n",
    "    tesoura = 2\n",
    "    \n",
    "    if val1 == val2:\n",
    "        return \"Empate\"\n",
    "    elif val1 == pedra and val2 == tesoura:\n",
    "        return \"Vence o Jogador 1\"\n",
    "    elif val1 == tesoura and val2 == papel:\n",
    "        return \"Vence o Jogador 1\"\n",
    "    elif val1 == papel and val2 == pedra:\n",
    "        return \"Vence o Jogador 1\"\n",
    "    else:\n",
    "        return \"Vence o Jogador 2\"\n",
    "\n",
    "#entradas = input().split(\", \")\n",
    "#jogador1, jogador2 = list(map(int, entradas))\n",
    "print(\"pedra-0, papel-1, tesoura-2\")\n",
    "n = int(input('Tentativas: '))\n",
    "for i in range(n):\n",
    "    print(jokenpo(int(input('J1: ')), int(input('J2: '))))"
   ]
  },
  {
   "cell_type": "markdown",
   "metadata": {},
   "source": [
    "#### 5)\n",
    "- Calcular o Produto Escalar - Soma dos Produtos entre os Itens Correspondentes em Duas Listas"
   ]
  },
  {
   "cell_type": "code",
   "execution_count": 4,
   "metadata": {},
   "outputs": [
    {
     "name": "stdout",
     "output_type": "stream",
     "text": [
      "32\n",
      "Listas de Dimensões Diferentes\n"
     ]
    }
   ],
   "source": [
    "def escalar(lst1, lst2):\n",
    "    if len(lst1) == len(lst2):\n",
    "        z = 0\n",
    "        for i in range(len(lst1)):\n",
    "            k = lst1[i] * lst2[i]\n",
    "            z += k\n",
    "        return z\n",
    "    else:\n",
    "        return \"Listas de Dimensões Diferentes\"\n",
    "\n",
    "x = [1, 2, 3]\n",
    "y = [4, 5, 6]\n",
    "\n",
    "a = [9, 10, 11]\n",
    "b = [20, 30]\n",
    "\n",
    "print(escalar(x, y))\n",
    "print(escalar(a, b))"
   ]
  },
  {
   "cell_type": "markdown",
   "metadata": {},
   "source": [
    "#### 6)\n",
    "- Diagnóstico de Doenças"
   ]
  },
  {
   "cell_type": "code",
   "execution_count": 17,
   "metadata": {},
   "outputs": [
    {
     "name": "stdout",
     "output_type": "stream",
     "text": [
      "Sente dor no corpo? s ou n\n",
      "Você tem febre? s ou n\n",
      "Você tem tosse? s ou n\n",
      "Está com congestão nasal? s ou n\n",
      "Tem manchas pelo corpo? s ou n\n",
      "\n",
      "Diagnóstico: Dengue\n"
     ]
    }
   ],
   "source": [
    "def diagnostico(a, b, c, d, e):\n",
    "    dados = (a, b, c, d, e)\n",
    "    diags = {\"gripe1\":('s', 's', 's', 's', 'n'), \"gripe2\":('n', 's', 's', 's', 'n'), \"dengue\":('s', 's', 'n', 'n', 's'), \"desco\":('s', 's', 's', 's', 's')}\n",
    "    if dados == diags[\"gripe1\"]:\n",
    "        return \"Gripe\"\n",
    "    elif dados == diags[\"gripe2\"]:\n",
    "        return \"Gripe\"\n",
    "    elif dados == diags[\"dengue\"]:\n",
    "        return \"Dengue\"\n",
    "    elif dados == diags[\"desco\"]:\n",
    "        return \"Desconhecido - Investigar mais\"\n",
    "    else:\n",
    "        return \"Sem Doença\"\n",
    "    \n",
    "n = int(input(\"Consultas: \"))\n",
    "for i in range(n):\n",
    "    print(\"Sente dor no corpo? s ou n\\nVocê tem febre? s ou n\\nVocê tem tosse? s ou n\\nEstá com congestão nasal? s ou n\\nTem manchas pelo corpo? s ou n\\n\")\n",
    "    a, b, c, d, e = input(\"Consulta: \").split(\",\")    \n",
    "    print(f\"Diagnóstico: {diagnostico(a,b,c,d,e)}\")"
   ]
  },
  {
   "cell_type": "code",
   "execution_count": 12,
   "metadata": {},
   "outputs": [
    {
     "name": "stdout",
     "output_type": "stream",
     "text": [
      "Diagnóstico: Sem Doença\n"
     ]
    }
   ],
   "source": [
    "def diagnostico(a, b, c, d, e):\n",
    "    dados = (a, b, c, d, e)\n",
    "    diags = {\"gripe1\":('s', 's', 's', 's', 'n'), \"gripe2\":('n', 's', 's', 's', 'n'), \"dengue\":('s', 's', 'n', 'n', 's')}\n",
    "    if dados == diags[\"gripe1\"]:\n",
    "        return \"Gripe\"\n",
    "    elif dados == diags[\"gripe2\"]:\n",
    "        return \"Gripe\"\n",
    "    elif dados == diags[\"dengue\"]:\n",
    "        return \"Dengue\"\n",
    "    else:\n",
    "        return \"Sem Doença\"\n",
    "    \n",
    "\n",
    "a = input(\"Sente dor no corpo? s ou n\\n \")\n",
    "b = input(\"Você tem febre? s ou n\\n \")\n",
    "c = input(\"Você tem tosse? s ou n\\n \")\n",
    "d = input(\"Está com congestão nasal? s ou n\\n \")\n",
    "e = input(\"Tem manchas pelo corpo? s ou n\\n \")\n",
    "print(f\"Diagnóstico: {diagnostico(a,b,c,d,e)}\")"
   ]
  },
  {
   "cell_type": "code",
   "execution_count": 27,
   "metadata": {},
   "outputs": [
    {
     "name": "stdout",
     "output_type": "stream",
     "text": [
      "Diagnóstico: Gripe\n"
     ]
    }
   ],
   "source": [
    "def diagnostico(a,b,c,d,e):\n",
    "    lst = [a,b,c,d,e]\n",
    "    diag = 0\n",
    "    for i in lst:\n",
    "        if i == \"s\":\n",
    "            diag += 1\n",
    "        else:\n",
    "            diag += 0\n",
    "    \n",
    "    if diag == 2:\n",
    "        return \"Dengue\"\n",
    "    elif diag == 3 or diag == 4:\n",
    "        return \"Gripe\"\n",
    "    elif diag == 5:\n",
    "        return \"Desconhecido - Investigar\"\n",
    "    else:\n",
    "        return \"Sem doença\"\n",
    "\n",
    "n = int(input(\"Consultas: \"))\n",
    "for i in range(n):\n",
    "    a, b, c, d, e = input(\"Sente dor no corpo? s ou n\\nVocê tem febre? s ou n\\nVocê tem tosse? s ou n\\nEstá com congestão nasal? s ou n\\nTem manchas pelo corpo? s ou n\\n\").split(\",\")\n",
    "    print(f\"Diagnóstico: {diagnostico(a,b,c,d,e)}\")"
   ]
  },
  {
   "cell_type": "code",
   "execution_count": 29,
   "metadata": {},
   "outputs": [
    {
     "name": "stdout",
     "output_type": "stream",
     "text": [
      "Sem doença\n"
     ]
    }
   ],
   "source": [
    "perguntas = [\"Sente dor no corpo?\", \"Você tem febre?\", \"Você tem tosse?\", \"Está com congestão nasal?\", \"Tem manchas pelo corpo?\"]\n",
    "respostas = []\n",
    "for i in perguntas:\n",
    "    resposta = input(str(i))\n",
    "    respostas.append(resposta)\n",
    "\n",
    "form = \"\".join(respostas)\n",
    "\n",
    "doenca = {\"gripe1\":'ssssn', \"gripe2\":'nsssn', \"dengue\":'ssnns'}\n",
    "\n",
    "if form == doenca['gripe1']:\n",
    "    print(\"Diagnóstico: Gripe\")\n",
    "elif form == doenca['gripe2']:\n",
    "    print(\"Diagnóstico: Gripe\")\n",
    "elif form == doenca['dengue']:\n",
    "    print(\"Diganóstico: Dengue\")\n",
    "else:\n",
    "    print(\"Sem doença\")"
   ]
  },
  {
   "cell_type": "code",
   "execution_count": 12,
   "metadata": {},
   "outputs": [
    {
     "name": "stdout",
     "output_type": "stream",
     "text": [
      "Diagnóstico: Dengue\n"
     ]
    }
   ],
   "source": [
    "perguntas = [\"Sente dor no corpo?\", \"Você tem febre?\", \"Você tem tosse?\", \"Está com congestão nasal?\", \"Tem manchas pelo corpo?\"]\n",
    "hipo = {'ssssn':'Gripe', 'nsssn':'Gripe', 'ssnns':'Dengue', 'snnnn':'Sem Doença', 'nnnnn':'Sem doença', 'sssss': 'Investigar Mais'}\n",
    "\n",
    "form = [input(i) for i in perguntas]\n",
    "marcador = ''.join(form)\n",
    "\n",
    "print(f'Diagnóstico: {hipo[marcador]}')"
   ]
  }
 ],
 "metadata": {
  "interpreter": {
   "hash": "02a0274d8add694ae22da6a9bb5eb47c091c997a6aad4ecec77bb5dd18990dd9"
  },
  "kernelspec": {
   "display_name": "Python 3.9.9 64-bit",
   "language": "python",
   "name": "python3"
  },
  "language_info": {
   "codemirror_mode": {
    "name": "ipython",
    "version": 3
   },
   "file_extension": ".py",
   "mimetype": "text/x-python",
   "name": "python",
   "nbconvert_exporter": "python",
   "pygments_lexer": "ipython3",
   "version": "3.9.9"
  },
  "orig_nbformat": 4
 },
 "nbformat": 4,
 "nbformat_minor": 2
}
