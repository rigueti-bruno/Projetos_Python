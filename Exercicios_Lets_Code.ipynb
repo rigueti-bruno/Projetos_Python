{
 "cells": [
  {
   "cell_type": "markdown",
   "metadata": {},
   "source": [
    "#### 1)\n",
    "- Gerar Lista com 10 números aleatórios entre 1 e 100\n",
    "- Imprimir os valores máximo, mínimo, média e soma dos valores da lista"
   ]
  },
  {
   "cell_type": "code",
   "execution_count": null,
   "metadata": {},
   "outputs": [],
   "source": [
    "import random as rd\n",
    "import statistics as st\n",
    "\n",
    "# Gerando a Lista Aleatória:\n",
    "\n",
    "num = []\n",
    "for i in range(10):\n",
    "    i = int(round(rd.uniform(1, 100), 0))\n",
    "    num.append(i)\n",
    "\n",
    "# Calculando as Medidas:\n",
    "\n",
    "val_min = min(num) # menor valor\n",
    "val_mai= max(num) # maior valor\n",
    "med = st.fmean(num) # media\n",
    "soma = sum(num) # soma\n",
    "\n",
    "# Gerando o Resultado:\n",
    "print(f\"Lista: {num}\")\n",
    "print(f\"Medidas:\\nMenor = {val_min}\\nMaior = {val_mai}\\nMedia = {med}\\nSoma = {soma}\", end=\"\")"
   ]
  },
  {
   "cell_type": "markdown",
   "metadata": {},
   "source": [
    "#### 2)\n",
    "- Receber uma Expressão Numérica e Executar o seu Cálculo\n",
    "- Simplificar o resultado"
   ]
  },
  {
   "cell_type": "code",
   "execution_count": null,
   "metadata": {},
   "outputs": [],
   "source": [
    "def calcexp(express):\n",
    "    import math as mt\n",
    "\n",
    "    # Obetendo a Expressão:\n",
    "    express = express.split()\n",
    "\n",
    "    # Decompondo a Expressão:\n",
    "    part1 = express[0].split(\"/\")\n",
    "    part2 = express[len(express)-1].split(\"/\")\n",
    "    num1 = int(part1[0])\n",
    "    den1 = int(part1[1])\n",
    "    num2 = int(part2[0])\n",
    "    den2 = int(part2[1])\n",
    "  \n",
    "    # Realizando os Cálculos:\n",
    "    if express[1] == '+':\n",
    "        denom = mt.lcm(den1, den2)\n",
    "        nume = int((denom/den1*num1) + (denom/den2*num2))       \n",
    "    if express[1] == '-':\n",
    "        denom = mt.lcm(den1, den2)\n",
    "        nume = int((denom/den1*num1) - (denom/den2*num2))        \n",
    "    if express[1] == '*':\n",
    "        denom = den1 * den2\n",
    "        nume = num1 * num2        \n",
    "    if express[1] == '/':\n",
    "        denom = den1 * num2\n",
    "        nume = num1 * den2        \n",
    "        \n",
    "    # Simplificando as Partes:\n",
    "    mdc = mt.gcd(nume, denom)\n",
    "\n",
    "    if mdc != 0:\n",
    "        denoms = int(denom/mdc)\n",
    "        numes = int(nume/mdc)        \n",
    "    else:\n",
    "        denoms = denom\n",
    "        numes = nume\n",
    "        \n",
    "    # Gerando o Resultado:\n",
    "    resul = str(nume) + \"/\" + str(denom) + \" = \" + str(numes) + \"/\" + str(denoms)\n",
    "    return resul\n",
    "    \n",
    "print(calcexp(\"1/2 + 3/4\"))\n",
    "print(calcexp(\"1/2 - 3/4\"))\n",
    "print(calcexp(\"2/3 * 6/6\"))\n",
    "print(calcexp(\"1/2 / 3/4\"))\n",
    "\n"
   ]
  },
  {
   "cell_type": "code",
   "execution_count": null,
   "metadata": {},
   "outputs": [],
   "source": [
    "# Versão Alternativa:\n",
    "\n",
    "def calcexp(express):\n",
    "    import math as mt\n",
    "\n",
    "    # Obetendo a Expressão:\n",
    "    express = express.split()\n",
    "\n",
    "    # Decompondo a Expressão:\n",
    "    part1 = express[0].split(\"/\")\n",
    "    part2 = express[len(express)-1].split(\"/\")\n",
    "    num1 = int(part1[0])\n",
    "    den1 = int(part1[1])\n",
    "    num2 = int(part2[0])\n",
    "    den2 = int(part2[1])\n",
    "  \n",
    "    # Realizando os Cálculos:\n",
    "    if express[1] == '+':\n",
    "        denom = den1 * den2\n",
    "        nume = int((denom / den1 * num1) + (denom / den2 * num2))\n",
    "    if express[1] == '-':\n",
    "        denom = den1 * den2\n",
    "        nume = int((denom / den1 * num1) - (denom / den2 * num2))\n",
    "    if express[1] == '*':\n",
    "        denom = den1 * den2\n",
    "        nume = num1 * num2        \n",
    "    if express[1] == '/':\n",
    "        denom = den1 * num2\n",
    "        nume = num1 * den2        \n",
    "        \n",
    "    # Simplificando as Partes:\n",
    "    mdc = mt.gcd(nume, denom)\n",
    "\n",
    "    if mdc != 0:\n",
    "        denoms = int(denom/mdc)\n",
    "        numes = int(nume/mdc)        \n",
    "    else:\n",
    "        denoms = denom\n",
    "        numes = nume\n",
    "        \n",
    "    # Gerando o Resultado:\n",
    "    resul = str(nume) + \"/\" + str(denom) + \" = \" + str(numes) + \"/\" + str(denoms)\n",
    "    return resul\n",
    "    \n",
    "# Obtendo o Resultado:\n",
    "n = int(input())\n",
    "for i in range(n):\n",
    "    print(calcexp(input()))"
   ]
  },
  {
   "cell_type": "markdown",
   "metadata": {},
   "source": [
    "#### 3)\n",
    "- Criar Dicionário que receba e armazene nome, idade e email de uma pessoa:"
   ]
  },
  {
   "cell_type": "code",
   "execution_count": null,
   "metadata": {},
   "outputs": [],
   "source": [
    "def dicont(nome, idade, email):\n",
    "    contat = {'nome': nome, 'idade': idade, 'email': email}\n",
    "    return contat\n",
    "\n",
    "print(dicont('Bruno', 35, 'abc@def.br'))"
   ]
  },
  {
   "cell_type": "code",
   "execution_count": null,
   "metadata": {},
   "outputs": [],
   "source": [
    "def dicont(nome, idade, email):\n",
    "    contat = {}\n",
    "    contat[nome] = idade, email\n",
    "    return contat\n",
    "\n",
    "print(dicont('Bruno', 35, 'abc@def.br'))"
   ]
  },
  {
   "cell_type": "code",
   "execution_count": null,
   "metadata": {},
   "outputs": [],
   "source": [
    "def dicont(dados):\n",
    "    nome = dados[0]\n",
    "    idade = dados[1]\n",
    "    email = dados[2]\n",
    "    contat = {'nome': nome, 'idade': idade, 'email': email}\n",
    "    return contat\n",
    "\n",
    "print(dicont(input().split(',')))"
   ]
  },
  {
   "cell_type": "code",
   "execution_count": null,
   "metadata": {},
   "outputs": [],
   "source": [
    "def dicont(dados):\n",
    "    contat = {}\n",
    "    nome = dados[0]\n",
    "    idade = dados[1]\n",
    "    email = dados[2]\n",
    "    contat[nome] = idade, email\n",
    "    return contat\n",
    "\n",
    "print(dicont(input().split(',')))"
   ]
  },
  {
   "cell_type": "code",
   "execution_count": null,
   "metadata": {},
   "outputs": [],
   "source": [
    "def dicont(dados):\n",
    "    contat = {}\n",
    "    nome, idade, email = dados\n",
    "    contat[nome] = idade, email\n",
    "    return contat\n",
    "\n",
    "print(dicont(input().split(',')))"
   ]
  },
  {
   "cell_type": "markdown",
   "metadata": {},
   "source": [
    "#### 4)\n",
    "- Criar um Jogo Pedra, Papel e Tesoura"
   ]
  },
  {
   "cell_type": "code",
   "execution_count": null,
   "metadata": {},
   "outputs": [],
   "source": [
    "def jokenpo(val1, val2):\n",
    "    pedra = 0\n",
    "    papel = 1\n",
    "    tesoura = 2\n",
    "    \n",
    "    if val1 == val2:\n",
    "        return \"Empate\"\n",
    "    elif val1 == pedra and val2 == tesoura:\n",
    "        return \"Vence o Jogador 1\"\n",
    "    elif val1 == tesoura and val2 == papel:\n",
    "        return \"Vence o Jogador 1\"\n",
    "    elif val1 == papel and val2 == pedra:\n",
    "        return \"Vence o Jogador 1\"\n",
    "    else:\n",
    "        return \"Vence o Jogador 2\"\n",
    "\n",
    "entradas = input().split(\", \")\n",
    "jogador1, jogador2 = list(map(int, entradas))\n",
    "\n",
    "print(jokenpo(jogador1, jogador2))"
   ]
  },
  {
   "cell_type": "code",
   "execution_count": null,
   "metadata": {},
   "outputs": [],
   "source": [
    "def jokenpo(val1, val2):\n",
    "    pedra = 0\n",
    "    papel = 1\n",
    "    tesoura = 2\n",
    "    \n",
    "    if val1 == val2:\n",
    "        return \"Empate\"\n",
    "    elif val1 == pedra and val2 == tesoura:\n",
    "        return \"Vence o Jogador 1\"\n",
    "    elif val1 == tesoura and val2 == papel:\n",
    "        return \"Vence o Jogador 1\"\n",
    "    elif val1 == papel and val2 == pedra:\n",
    "        return \"Vence o Jogador 1\"\n",
    "    else:\n",
    "        return \"Vence o Jogador 2\"\n",
    "\n",
    "#entradas = input().split(\", \")\n",
    "#jogador1, jogador2 = list(map(int, entradas))\n",
    "print(\"pedra-0, papel-1, tesoura-2\")\n",
    "n = int(input('Tentativas: '))\n",
    "for i in range(n):\n",
    "    print(jokenpo(int(input('J1: ')), int(input('J2: '))))"
   ]
  },
  {
   "cell_type": "markdown",
   "metadata": {},
   "source": [
    "#### 5)\n",
    "- Calcular o Produto Escalar - Soma dos Produtos entre os Itens Correspondentes em Duas Listas"
   ]
  },
  {
   "cell_type": "code",
   "execution_count": null,
   "metadata": {},
   "outputs": [],
   "source": [
    "def escalar(lst1, lst2):\n",
    "    if len(lst1) == len(lst2):\n",
    "        z = 0\n",
    "        for i in range(len(lst1)):\n",
    "            k = lst1[i] * lst2[i]\n",
    "            z += k\n",
    "        return z\n",
    "    else:\n",
    "        return \"Listas de Dimensões Diferentes\"\n",
    "\n",
    "x = [1, 2, 3]\n",
    "y = [4, 5, 6]\n",
    "\n",
    "a = [9, 10, 11]\n",
    "b = [20, 30]\n",
    "\n",
    "print(escalar(x, y))\n",
    "print(escalar(a, b))"
   ]
  },
  {
   "cell_type": "markdown",
   "metadata": {},
   "source": [
    "#### 6)\n",
    "- Diagnóstico de Doenças"
   ]
  },
  {
   "cell_type": "code",
   "execution_count": null,
   "metadata": {},
   "outputs": [],
   "source": [
    "def diagnostico(a, b, c, d, e):\n",
    "    dados = (a, b, c, d, e)\n",
    "    diags = {\"gripe1\":('s', 's', 's', 's', 'n'), \"gripe2\":('n', 's', 's', 's', 'n'), \"dengue\":('s', 's', 'n', 'n', 's'), \"desco\":('s', 's', 's', 's', 's')}\n",
    "    if dados == diags[\"gripe1\"]:\n",
    "        return \"Gripe\"\n",
    "    elif dados == diags[\"gripe2\"]:\n",
    "        return \"Gripe\"\n",
    "    elif dados == diags[\"dengue\"]:\n",
    "        return \"Dengue\"\n",
    "    elif dados == diags[\"desco\"]:\n",
    "        return \"Desconhecido - Investigar mais\"\n",
    "    else:\n",
    "        return \"Sem Doença\"\n",
    "    \n",
    "n = int(input(\"Consultas: \"))\n",
    "for i in range(n):\n",
    "    print(\"Sente dor no corpo? s ou n\\nVocê tem febre? s ou n\\nVocê tem tosse? s ou n\\nEstá com congestão nasal? s ou n\\nTem manchas pelo corpo? s ou n\\n\")\n",
    "    a, b, c, d, e = input(\"Consulta: \").split(\",\")    \n",
    "    print(f\"Diagnóstico: {diagnostico(a,b,c,d,e)}\")"
   ]
  },
  {
   "cell_type": "code",
   "execution_count": null,
   "metadata": {},
   "outputs": [],
   "source": [
    "def diagnostico(a, b, c, d, e):\n",
    "    dados = (a, b, c, d, e)\n",
    "    diags = {\"gripe1\":('s', 's', 's', 's', 'n'), \"gripe2\":('n', 's', 's', 's', 'n'), \"dengue\":('s', 's', 'n', 'n', 's')}\n",
    "    if dados == diags[\"gripe1\"]:\n",
    "        return \"Gripe\"\n",
    "    elif dados == diags[\"gripe2\"]:\n",
    "        return \"Gripe\"\n",
    "    elif dados == diags[\"dengue\"]:\n",
    "        return \"Dengue\"\n",
    "    else:\n",
    "        return \"Sem Doença\"\n",
    "    \n",
    "\n",
    "a = input(\"Sente dor no corpo? s ou n\\n \")\n",
    "b = input(\"Você tem febre? s ou n\\n \")\n",
    "c = input(\"Você tem tosse? s ou n\\n \")\n",
    "d = input(\"Está com congestão nasal? s ou n\\n \")\n",
    "e = input(\"Tem manchas pelo corpo? s ou n\\n \")\n",
    "print(f\"Diagnóstico: {diagnostico(a,b,c,d,e)}\")"
   ]
  },
  {
   "cell_type": "code",
   "execution_count": null,
   "metadata": {},
   "outputs": [],
   "source": [
    "def diagnostico(a,b,c,d,e):\n",
    "    lst = [a,b,c,d,e]\n",
    "    diag = 0\n",
    "    for i in lst:\n",
    "        if i == \"s\":\n",
    "            diag += 1\n",
    "        else:\n",
    "            diag += 0\n",
    "    \n",
    "    if diag == 2:\n",
    "        return \"Dengue\"\n",
    "    elif diag == 3 or diag == 4:\n",
    "        return \"Gripe\"\n",
    "    elif diag == 5:\n",
    "        return \"Desconhecido - Investigar\"\n",
    "    else:\n",
    "        return \"Sem doença\"\n",
    "\n",
    "n = int(input(\"Consultas: \"))\n",
    "for i in range(n):\n",
    "    a, b, c, d, e = input(\"Sente dor no corpo? s ou n\\nVocê tem febre? s ou n\\nVocê tem tosse? s ou n\\nEstá com congestão nasal? s ou n\\nTem manchas pelo corpo? s ou n\\n\").split(\",\")\n",
    "    print(f\"Diagnóstico: {diagnostico(a,b,c,d,e)}\")"
   ]
  },
  {
   "cell_type": "code",
   "execution_count": null,
   "metadata": {},
   "outputs": [],
   "source": [
    "perguntas = [\"Sente dor no corpo?\", \"Você tem febre?\", \"Você tem tosse?\", \"Está com congestão nasal?\", \"Tem manchas pelo corpo?\"]\n",
    "respostas = []\n",
    "for i in perguntas:\n",
    "    resposta = input(str(i))\n",
    "    respostas.append(resposta)\n",
    "\n",
    "form = \"\".join(respostas)\n",
    "\n",
    "doenca = {\"gripe1\":'ssssn', \"gripe2\":'nsssn', \"dengue\":'ssnns'}\n",
    "\n",
    "if form == doenca['gripe1']:\n",
    "    print(\"Diagnóstico: Gripe\")\n",
    "elif form == doenca['gripe2']:\n",
    "    print(\"Diagnóstico: Gripe\")\n",
    "elif form == doenca['dengue']:\n",
    "    print(\"Diganóstico: Dengue\")\n",
    "else:\n",
    "    print(\"Sem doença\")"
   ]
  },
  {
   "cell_type": "code",
   "execution_count": null,
   "metadata": {},
   "outputs": [],
   "source": [
    "perguntas = [\"Sente dor no corpo?\", \"Você tem febre?\", \"Você tem tosse?\", \"Está com congestão nasal?\", \"Tem manchas pelo corpo?\"]\n",
    "hipo = {'ssssn':'Gripe', 'nsssn':'Gripe', 'ssnns':'Dengue', 'snnnn':'Sem Doença', 'nnnnn':'Sem doença', 'sssss': 'Investigar Mais'}\n",
    "\n",
    "form = [input(i) for i in perguntas]\n",
    "marcador = ''.join(form)\n",
    "\n",
    "print(f'Diagnóstico: {hipo[marcador]}')"
   ]
  },
  {
   "cell_type": "code",
   "execution_count": null,
   "metadata": {},
   "outputs": [],
   "source": [
    "perguntas = [\"Sente dor no corpo?\", \"Você tem febre?\",\"Você tem tosse?\", \"Está com congestão nasal?\", \"Tem manchas pelo corpo?\"]\n",
    "hipo = {30:'Gripe',14:'Dengue',25:'Sem Doença', 0:'Sem doença',31: 'Investigar Mais'}\n",
    "\n",
    "form = [\"1\" if input(i+\"\\n\") == 's' else \"0\" for i in perguntas]\n",
    "marcador = int((''.join(form)), 2)\n",
    "print(marcador)\n",
    "print(f'\\nDiagnóstico: {hipo[marcador]}')"
   ]
  },
  {
   "cell_type": "code",
   "execution_count": null,
   "metadata": {},
   "outputs": [],
   "source": [
    "perguntas = [\"Sente dor no corpo?\", \"Você tem febre?\",\"Você tem tosse?\", \"Está com congestão nasal?\", \"Tem manchas pelo corpo?\"]\n",
    "hipo = {30:'Gripe',14:'Dengue',25:'Sem Doença', 0:'Sem doença', 31: 'Investigar Mais'}\n",
    "\n",
    "form = [str(int(input(i+\"\\n\")=='s')) for i in perguntas]\n",
    "marcador = int(''.join(form),2)\n",
    "if marcador not in hipo: marcador = 31\n",
    "print(f'\\nDiagnóstico: {hipo[marcador]}')"
   ]
  },
  {
   "cell_type": "markdown",
   "metadata": {},
   "source": [
    "#### 7)\n",
    "- Gerar as Tabuadas de 1 a 10:"
   ]
  },
  {
   "cell_type": "code",
   "execution_count": null,
   "metadata": {},
   "outputs": [],
   "source": [
    "for i in range(1, 11):\n",
    "    print(f'\\nTabuada de {i}:')\n",
    "    for j in range(1, 11):        \n",
    "        print(f'{i} x {j} = {i * j}')"
   ]
  },
  {
   "cell_type": "markdown",
   "metadata": {},
   "source": [
    "#### 7-B)\n",
    "- Receber um número e exibir a tabuada dele:"
   ]
  },
  {
   "cell_type": "code",
   "execution_count": null,
   "metadata": {},
   "outputs": [],
   "source": [
    "n = int(input(\"Insira um número:\"))\n",
    "print(f'Tabuada de {n}:')\n",
    "for i in range(1,11):\n",
    "    print(f'{n} x {i} = {n * i}')"
   ]
  },
  {
   "cell_type": "markdown",
   "metadata": {},
   "source": [
    "#### 8)\n",
    "- Converter Graus Fahrenheit (°F) para Graus Celsius (°C)"
   ]
  },
  {
   "cell_type": "code",
   "execution_count": null,
   "metadata": {},
   "outputs": [],
   "source": [
    "# Print na Função:\n",
    "def contemp(fahrenheit):\n",
    "    celsius = (5 * (fahrenheit - 32)) / 9\n",
    "    print(f'{fahrenheit:.0f}°F = {celsius:.0f}°C')\n",
    "    \n",
    "n = int(input())\n",
    "for i in range(n):\n",
    "    contemp(int(input()))"
   ]
  },
  {
   "cell_type": "code",
   "execution_count": null,
   "metadata": {},
   "outputs": [],
   "source": [
    "# Print fora da Função:\n",
    "def contemp(fahrenheit):\n",
    "    celsius = (5 * (fahrenheit - 32)) / 9\n",
    "    return celsius\n",
    "\n",
    "n = int(input())\n",
    "for i in range(n):\n",
    "    f = int(input())\n",
    "    c = contemp(f)\n",
    "    print(f'{f:.0f}°F = {c:.0f}°C')"
   ]
  },
  {
   "cell_type": "code",
   "execution_count": null,
   "metadata": {},
   "outputs": [],
   "source": [
    "print(f\"Celsius = {((((int(input('Fahrenheit: ')))-32)*5)/9):.0f}°\")"
   ]
  },
  {
   "cell_type": "markdown",
   "metadata": {},
   "source": [
    "#### 9)\n",
    "- Escolher um item, sua quantidade e retornar o total a pagar:"
   ]
  },
  {
   "cell_type": "code",
   "execution_count": null,
   "metadata": {},
   "outputs": [],
   "source": [
    "# Biblioteca com as Informações:\n",
    "\n",
    "menu = {1:(\"Cachorro Quente\", 4), 2:(\"X-Salada\", 4.5),  3:(\"X-Bacon\", 5), 4:(\"Torrada Simples\", 2), 5:(\"Refrigerante\", 1.5)}\n",
    "\n",
    "# Montar o Pedido:\n",
    "\n",
    "item = int(input(\"\"\"\n",
    "                 Escollha uma opção:\n",
    "                     1 - Cachorro Quente\n",
    "                     2 - X-Salada\n",
    "                     3 - X-Bacon\n",
    "                     4 - Torrada Simples\n",
    "                     5 - Refrigerante \n",
    "                     \"\"\"))\n",
    "quant = int(input(\"Quantidade: \"))\n",
    "total = float(menu[item][1] * quant)\n",
    "\n",
    "# Resumo do Pedido:\n",
    "\n",
    "print(f'Item Escolhido: {menu[item][0]}\\nQuantidade Solicitada: {quant}\\nTotal a pagar: R${total:.2f}')"
   ]
  },
  {
   "cell_type": "code",
   "execution_count": null,
   "metadata": {},
   "outputs": [],
   "source": [
    "# Criando uma Nota Fiscal\n",
    "\n",
    "# Biblioteca com as Informações:\n",
    "\n",
    "menu = {1:(\"Cachorro Quente\", 4), 2:(\"X-Salada\", 4.5),  3:(\"X-Bacon\", 5), 4:(\"Torrada Simples\", 2), 5:(\"Refrigerante\", 1.5)}\n",
    "\n",
    "# Montar o Pedido:\n",
    "\n",
    "print(\"NOTA FISCAL\")\n",
    "print(\"_\" * 15)\n",
    "opt = print(\"\"\"\n",
    "                 Escollha uma opção:\n",
    "                     1 - Cachorro Quente\n",
    "                     2 - X-Salada\n",
    "                     3 - X-Bacon\n",
    "                     4 - Torrada Simples\n",
    "                     5 - Refrigerante \n",
    "                     \"\"\")\n",
    "print(\"_\" * 15)\n",
    "\n",
    "totger = []\n",
    "totite = int(input(\"Quantos itens: \"))\n",
    "for i in range(totite):    \n",
    "    item = int(input(\"Item: \"))\n",
    "    quant = int(input(\"Quantidade: \"))\n",
    "    valor = float(menu[item][1] * quant)\n",
    "    totger.append(valor)\n",
    "    # Resumo por item escolhido:\n",
    "    print(f'Item Escolhido: {menu[item][0]}\\nQuantidade Solicitada: {quant}\\nTotal a pagar: R${valor:.2f}')\n",
    "    print(\"_\" * 15)\n",
    "\n",
    "# Resumo do Pedido:\n",
    "print(f'\\nTOTAL A PAGAR: {sum(totger)}')\n"
   ]
  },
  {
   "cell_type": "markdown",
   "metadata": {},
   "source": [
    "#### 10)\n",
    "- Quantidade de Cédulas e Moedas"
   ]
  },
  {
   "cell_type": "code",
   "execution_count": null,
   "metadata": {},
   "outputs": [],
   "source": [
    "def decompval(valor):\n",
    "    # Entradas:\n",
    "    \n",
    "    valor = float(valor)\n",
    "    cedulas = [100, 50, 20, 10, 5, 2]\n",
    "    moedas = [1, 0.5, 0.25, 0.10, 0.05, 0.01]\n",
    "\n",
    "    # Cálculos:\n",
    "\n",
    "    quantced = [] # quantidades de cedulas\n",
    "    quantmoe = [] # quantidades de moedas\n",
    "    while valor >= 1:\n",
    "        \n",
    "        for i in range(len(cedulas)):\n",
    "            quantced.append(int(valor//cedulas[i]))\n",
    "            valor = valor % cedulas[i]\n",
    "        \n",
    "        for j in range(len(moedas)):\n",
    "            quantmoe.append(int(valor//moedas[j]))\n",
    "            valor = valor % moedas[j]\n",
    "\n",
    "    # Saída:\n",
    "\n",
    "    print('Cédulas:')\n",
    "    for i in range(len(quantced)):\n",
    "        print(f'{quantced[i]} nota(s) de R${cedulas[i]:.2f}')\n",
    "        \n",
    "    print('\\nMoedas:')\n",
    "    for i in range(len(quantmoe)):\n",
    "        print(f'{quantmoe[i]} moeda(s) de R${moedas[i]:.2f}')\n",
    "        \n",
    "decompval(input(\"Digite o valor: \"))"
   ]
  },
  {
   "cell_type": "code",
   "execution_count": null,
   "metadata": {},
   "outputs": [],
   "source": [
    "# Codigo do Gustavo:\n",
    "number = float(input())\n",
    "\n",
    "print('NOTAS:')\n",
    "for notas in [100, 50, 20, 10, 5, 2] :\n",
    "    qnt = int(number // notas)\n",
    "    number -= notas * qnt\n",
    "    print(f'{qnt} nota(s) de R$ {float(notas):.2f}')\n",
    "\n",
    "print('\\nMOEDAS:')\n",
    "for moedas in [1, 0.5, 0.25, 0.1, 0.05, 0.01] :\n",
    "    qnt = int(number // moedas)\n",
    "    number -= moedas * qnt\n",
    "    print(f'{qnt} moeda(s) de R$ {float(moedas):.2f}')"
   ]
  },
  {
   "cell_type": "code",
   "execution_count": null,
   "metadata": {},
   "outputs": [],
   "source": [
    "# Codigo do Igor:\n",
    "from decimal import Decimal\n",
    "\n",
    "valor = float(input())\n",
    "\n",
    "print('NOTAS:')\n",
    "for cedula in [100, 50, 20, 10, 5, 2]:\n",
    "    print(f'{valor // cedula:.0f} nota(s) de R$ {cedula:.2f}')\n",
    "    valor %= cedula\n",
    "\n",
    "valor = Decimal(str(valor))\n",
    "print('\\nMOEDAS:')\n",
    "for moeda in [1, 0.50, 0.25, 0.10, 0.05, 0.01]:\n",
    "    moeda = Decimal(str(moeda))\n",
    "    print(f'{valor // moeda} moeda(s) de R$ {moeda:.2f}')\n",
    "    valor %= moeda"
   ]
  },
  {
   "cell_type": "markdown",
   "metadata": {},
   "source": [
    "#### 11)\n",
    "- Conferir a validade de um CPF"
   ]
  },
  {
   "cell_type": "code",
   "execution_count": null,
   "metadata": {},
   "outputs": [],
   "source": [
    "def confcpf(cpf):\n",
    "    # Dados:\n",
    "    dados = [int(i) for i in cpf]\n",
    "    conf1 = [10, 9, 8, 7, 6, 5, 4, 3, 2]\n",
    "    conf2 = [11, 10, 9, 8, 7, 6, 5, 4, 3, 2]\n",
    "    \n",
    "    # Verificadores:\n",
    "    ver1 = 0\n",
    "    for i in range(len(conf1)):\n",
    "        ver1 += dados[i] * conf1[i]\n",
    "        \n",
    "    ver2 = 0\n",
    "    for j in range(len(conf2)):\n",
    "        ver2 += dados[j] * conf2[j]\n",
    "        \n",
    "    # Conferência:\n",
    "    \n",
    "    if ver1 * 10 % 11 == dados[9] and ver2 * 10 % 11 == dados[10]:\n",
    "        return \"CPF Válido\"\n",
    "    else:\n",
    "        return \"CPF Inválido\"\n",
    "\n",
    "conf = confcpf(\"28625587887\")\n",
    "\n",
    "n = int(input(\"Conferências: \"))\n",
    "for i in range(n):\n",
    "    print(confcpf(input(\"Insira o CPF(numeros): \")))"
   ]
  },
  {
   "cell_type": "markdown",
   "metadata": {},
   "source": [
    "#### 12)\n",
    "- Incluir um valor a um array e reordená-lo em ordem decrescente:"
   ]
  },
  {
   "cell_type": "code",
   "execution_count": null,
   "metadata": {},
   "outputs": [],
   "source": [
    "a = [1, 2, 3]\n",
    "\n",
    "def org(lst, num):\n",
    "    lst.append(num)\n",
    "    lst.sort(reverse=True)\n",
    "    return lst\n",
    "\n",
    "n = int(input())\n",
    "for i in range(n):\n",
    "    print(org(a, int(input())))"
   ]
  },
  {
   "cell_type": "markdown",
   "metadata": {},
   "source": [
    "#### 13)\n",
    "- Imprimir números pares entre 1 e 100"
   ]
  },
  {
   "cell_type": "code",
   "execution_count": null,
   "metadata": {},
   "outputs": [],
   "source": [
    "# Solução 1\n",
    "for i in range(1,101):\n",
    "    if i%2==0:\n",
    "        print(i)"
   ]
  },
  {
   "cell_type": "code",
   "execution_count": null,
   "metadata": {},
   "outputs": [],
   "source": [
    "# Solução 2\n",
    "pares = [i for i in range(1,101) if i%2==0]\n",
    "print(pares)"
   ]
  },
  {
   "cell_type": "markdown",
   "metadata": {},
   "source": [
    "#### 14)\n",
    "- Somar até pressionar 0 e exibir a soma"
   ]
  },
  {
   "cell_type": "code",
   "execution_count": null,
   "metadata": {},
   "outputs": [],
   "source": [
    "x = 0\n",
    "y = 1\n",
    "while y != 0:\n",
    "    y = int(input())\n",
    "    x += y\n",
    "\n",
    "print(x)"
   ]
  }
 ],
 "metadata": {
  "kernelspec": {
   "display_name": "Python 3.10.5 64-bit",
   "language": "python",
   "name": "python3"
  },
  "language_info": {
   "codemirror_mode": {
    "name": "ipython",
    "version": 3
   },
   "file_extension": ".py",
   "mimetype": "text/x-python",
   "name": "python",
   "nbconvert_exporter": "python",
   "pygments_lexer": "ipython3",
   "version": "3.10.5"
  },
  "orig_nbformat": 4,
  "vscode": {
   "interpreter": {
    "hash": "ed3943dba37f3ed717092a780584c496f36863d6c99891baccd6632ecc02cdda"
   }
  }
 },
 "nbformat": 4,
 "nbformat_minor": 2
}
