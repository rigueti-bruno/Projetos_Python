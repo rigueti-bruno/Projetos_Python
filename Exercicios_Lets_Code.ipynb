{
 "cells": [
  {
   "cell_type": "markdown",
   "metadata": {},
   "source": [
    "#### 1)\n",
    "- Gerar Lista com 10 números aleatórios entre 1 e 100\n",
    "- Imprimir os valores máximo, mínimo, média e soma dos valores da lista"
   ]
  },
  {
   "cell_type": "code",
   "execution_count": null,
   "metadata": {},
   "outputs": [],
   "source": [
    "import random as rd\n",
    "import statistics as st\n",
    "\n",
    "# Gerando a Lista Aleatória:\n",
    "\n",
    "num = []\n",
    "for i in range(10):\n",
    "    i = int(round(rd.uniform(1, 100), 0))\n",
    "    num.append(i)\n",
    "\n",
    "# Calculando as Medidas:\n",
    "\n",
    "val_min = min(num) # menor valor\n",
    "val_mai= max(num) # maior valor\n",
    "med = st.fmean(num) # media\n",
    "soma = sum(num) # soma\n",
    "\n",
    "# Gerando o Resultado:\n",
    "print(f\"Lista: {num}\")\n",
    "print(f\"Medidas:\\nMenor = {val_min}\\nMaior = {val_mai}\\nMedia = {med}\\nSoma = {soma}\", end=\"\")"
   ]
  },
  {
   "cell_type": "markdown",
   "metadata": {},
   "source": [
    "#### 2)\n",
    "- Receber uma Expressão Numérica e Executar o seu Cálculo\n",
    "- Simplificar o resultado"
   ]
  },
  {
   "cell_type": "code",
   "execution_count": null,
   "metadata": {},
   "outputs": [],
   "source": [
    "def calcexp(express):\n",
    "    import math as mt\n",
    "\n",
    "    # Obetendo a Expressão:\n",
    "    express = express.split()\n",
    "\n",
    "    # Decompondo a Expressão:\n",
    "    part1 = express[0].split(\"/\")\n",
    "    part2 = express[len(express)-1].split(\"/\")\n",
    "    num1 = int(part1[0])\n",
    "    den1 = int(part1[1])\n",
    "    num2 = int(part2[0])\n",
    "    den2 = int(part2[1])\n",
    "  \n",
    "    # Realizando os Cálculos:\n",
    "    if express[1] == '+':\n",
    "        denom = mt.lcm(den1, den2)\n",
    "        nume = int((denom/den1*num1) + (denom/den2*num2))       \n",
    "    if express[1] == '-':\n",
    "        denom = mt.lcm(den1, den2)\n",
    "        nume = int((denom/den1*num1) - (denom/den2*num2))        \n",
    "    if express[1] == '*':\n",
    "        denom = den1 * den2\n",
    "        nume = num1 * num2        \n",
    "    if express[1] == '/':\n",
    "        denom = den1 * num2\n",
    "        nume = num1 * den2        \n",
    "        \n",
    "    # Simplificando as Partes:\n",
    "    mdc = mt.gcd(nume, denom)\n",
    "\n",
    "    if mdc != 0:\n",
    "        denoms = int(denom/mdc)\n",
    "        numes = int(nume/mdc)        \n",
    "    else:\n",
    "        denoms = denom\n",
    "        numes = nume\n",
    "        \n",
    "    # Gerando o Resultado:\n",
    "    resul = str(nume) + \"/\" + str(denom) + \" = \" + str(numes) + \"/\" + str(denoms)\n",
    "    return resul\n",
    "    \n",
    "print(calcexp(\"1/2 + 3/4\"))\n",
    "print(calcexp(\"1/2 - 3/4\"))\n",
    "print(calcexp(\"2/3 * 6/6\"))\n",
    "print(calcexp(\"1/2 / 3/4\"))\n",
    "\n"
   ]
  },
  {
   "cell_type": "code",
   "execution_count": null,
   "metadata": {},
   "outputs": [],
   "source": [
    "# Versão Alternativa:\n",
    "\n",
    "def calcexp(express):\n",
    "    import math as mt\n",
    "\n",
    "    # Obetendo a Expressão:\n",
    "    express = express.split()\n",
    "\n",
    "    # Decompondo a Expressão:\n",
    "    part1 = express[0].split(\"/\")\n",
    "    part2 = express[len(express)-1].split(\"/\")\n",
    "    num1 = int(part1[0])\n",
    "    den1 = int(part1[1])\n",
    "    num2 = int(part2[0])\n",
    "    den2 = int(part2[1])\n",
    "  \n",
    "    # Realizando os Cálculos:\n",
    "    if express[1] == '+':\n",
    "        denom = den1 * den2\n",
    "        nume = int((denom / den1 * num1) + (denom / den2 * num2))\n",
    "    if express[1] == '-':\n",
    "        denom = den1 * den2\n",
    "        nume = int((denom / den1 * num1) - (denom / den2 * num2))\n",
    "    if express[1] == '*':\n",
    "        denom = den1 * den2\n",
    "        nume = num1 * num2        \n",
    "    if express[1] == '/':\n",
    "        denom = den1 * num2\n",
    "        nume = num1 * den2        \n",
    "        \n",
    "    # Simplificando as Partes:\n",
    "    mdc = mt.gcd(nume, denom)\n",
    "\n",
    "    if mdc != 0:\n",
    "        denoms = int(denom/mdc)\n",
    "        numes = int(nume/mdc)        \n",
    "    else:\n",
    "        denoms = denom\n",
    "        numes = nume\n",
    "        \n",
    "    # Gerando o Resultado:\n",
    "    resul = str(nume) + \"/\" + str(denom) + \" = \" + str(numes) + \"/\" + str(denoms)\n",
    "    return resul\n",
    "    \n",
    "# Obtendo o Resultado:\n",
    "n = int(input())\n",
    "for i in range(n):\n",
    "    print(calcexp(input()))"
   ]
  },
  {
   "cell_type": "markdown",
   "metadata": {},
   "source": [
    "#### 3)\n",
    "- Criar Dicionário que receba e armazene nome, idade e email de uma pessoa:"
   ]
  },
  {
   "cell_type": "code",
   "execution_count": 9,
   "metadata": {},
   "outputs": [
    {
     "name": "stdout",
     "output_type": "stream",
     "text": [
      "{'nome': 'Bruno', 'idade': 35, 'email': 'abc@def.br'}\n"
     ]
    }
   ],
   "source": [
    "def dicont(nome, idade, email):\n",
    "    contat = {'nome': nome, 'idade': idade, 'email': email}\n",
    "    return contat\n",
    "\n",
    "print(dicont('Bruno', 35, 'abc@def.br'))"
   ]
  },
  {
   "cell_type": "code",
   "execution_count": 10,
   "metadata": {},
   "outputs": [
    {
     "name": "stdout",
     "output_type": "stream",
     "text": [
      "{'Bruno': (35, 'abc@def.br')}\n"
     ]
    }
   ],
   "source": [
    "def dicont(nome, idade, email):\n",
    "    contat = {}\n",
    "    contat[nome] = idade, email\n",
    "    return contat\n",
    "\n",
    "print(dicont('Bruno', 35, 'abc@def.br'))"
   ]
  },
  {
   "cell_type": "code",
   "execution_count": 12,
   "metadata": {},
   "outputs": [
    {
     "name": "stdout",
     "output_type": "stream",
     "text": [
      "{'nome': 'Bruno', 'idade': ' 35', 'email': ' abc@def.br'}\n"
     ]
    }
   ],
   "source": [
    "def dicont(dados):\n",
    "    nome = dados[0]\n",
    "    idade = dados[1]\n",
    "    email = dados[2]\n",
    "    contat = {'nome': nome, 'idade': idade, 'email': email}\n",
    "    return contat\n",
    "\n",
    "print(dicont(input().split(',')))"
   ]
  },
  {
   "cell_type": "code",
   "execution_count": 11,
   "metadata": {},
   "outputs": [
    {
     "name": "stdout",
     "output_type": "stream",
     "text": [
      "{'Bruno': (' 35', ' abc@def.br')}\n"
     ]
    }
   ],
   "source": [
    "def dicont(dados):\n",
    "    contat = {}\n",
    "    nome = dados[0]\n",
    "    idade = dados[1]\n",
    "    email = dados[2]\n",
    "    contat[nome] = idade, email\n",
    "    return contat\n",
    "\n",
    "print(dicont(input().split(',')))"
   ]
  },
  {
   "cell_type": "code",
   "execution_count": 14,
   "metadata": {},
   "outputs": [
    {
     "name": "stdout",
     "output_type": "stream",
     "text": [
      "{'Bruno': (' 35', ' abc@def.br')}\n"
     ]
    }
   ],
   "source": [
    "def dicont(dados):\n",
    "    contat = {}\n",
    "    nome, idade, email = dados\n",
    "    contat[nome] = idade, email\n",
    "    return contat\n",
    "\n",
    "print(dicont(input().split(',')))"
   ]
  },
  {
   "cell_type": "markdown",
   "metadata": {},
   "source": [
    "#### 4)\n",
    "- Criar um Jogo Pedra, Papel e Tesoura"
   ]
  },
  {
   "cell_type": "code",
   "execution_count": 8,
   "metadata": {},
   "outputs": [
    {
     "name": "stdout",
     "output_type": "stream",
     "text": [
      "Vence o Jogador 2\n"
     ]
    }
   ],
   "source": [
    "def jokenpo(val1, val2):\n",
    "    pedra = 0\n",
    "    papel = 1\n",
    "    tesoura = 2\n",
    "    \n",
    "    if val1 == val2:\n",
    "        return \"Empate\"\n",
    "    elif val1 == pedra and val2 == tesoura:\n",
    "        return \"Vence o Jogador 1\"\n",
    "    elif val1 == tesoura and val2 == papel:\n",
    "        return \"Vence o Jogador 1\"\n",
    "    elif val1 == papel and val2 == pedra:\n",
    "        return \"Vence o Jogador 1\"\n",
    "    else:\n",
    "        return \"Vence o Jogador 2\"\n",
    "\n",
    "entradas = input().split(\", \")\n",
    "jogador1, jogador2 = list(map(int, entradas))\n",
    "\n",
    "print(jokenpo(jogador1, jogador2))"
   ]
  },
  {
   "cell_type": "code",
   "execution_count": null,
   "metadata": {},
   "outputs": [],
   "source": [
    "def jokenpo(val1, val2):\n",
    "    pedra = 0\n",
    "    papel = 1\n",
    "    tesoura = 2\n",
    "    \n",
    "    if val1 == val2:\n",
    "        return \"Empate\"\n",
    "    elif val1 == pedra and val2 == tesoura:\n",
    "        return \"Vence o Jogador 1\"\n",
    "    elif val1 == tesoura and val2 == papel:\n",
    "        return \"Vence o Jogador 1\"\n",
    "    elif val1 == papel and val2 == pedra:\n",
    "        return \"Vence o Jogador 1\"\n",
    "    else:\n",
    "        return \"Vence o Jogador 2\"\n",
    "\n",
    "#entradas = input().split(\", \")\n",
    "#jogador1, jogador2 = list(map(int, entradas))\n",
    "print(\"pedra-0, papel-1, tesoura-2\")\n",
    "n = int(input('Tentativas: '))\n",
    "for i in range(n):\n",
    "    print(jokenpo(int(input('J1: ')), int(input('J2: '))))"
   ]
  },
  {
   "cell_type": "markdown",
   "metadata": {},
   "source": [
    "#### 5)\n",
    "- Calcular o Produto Escalar - Soma dos Produtos entre os Itens Correspondentes em Duas Listas"
   ]
  },
  {
   "cell_type": "code",
   "execution_count": 4,
   "metadata": {},
   "outputs": [
    {
     "name": "stdout",
     "output_type": "stream",
     "text": [
      "32\n",
      "Listas de Dimensões Diferentes\n"
     ]
    }
   ],
   "source": [
    "def escalar(lst1, lst2):\n",
    "    if len(lst1) == len(lst2):\n",
    "        z = 0\n",
    "        for i in range(len(lst1)):\n",
    "            k = lst1[i] * lst2[i]\n",
    "            z += k\n",
    "        return z\n",
    "    else:\n",
    "        return \"Listas de Dimensões Diferentes\"\n",
    "\n",
    "x = [1, 2, 3]\n",
    "y = [4, 5, 6]\n",
    "\n",
    "a = [9, 10, 11]\n",
    "b = [20, 30]\n",
    "\n",
    "print(escalar(x, y))\n",
    "print(escalar(a, b))"
   ]
  },
  {
   "cell_type": "markdown",
   "metadata": {},
   "source": [
    "#### 6)\n",
    "- Diagnóstico de Doenças"
   ]
  },
  {
   "cell_type": "code",
   "execution_count": 17,
   "metadata": {},
   "outputs": [
    {
     "name": "stdout",
     "output_type": "stream",
     "text": [
      "Sente dor no corpo? s ou n\n",
      "Você tem febre? s ou n\n",
      "Você tem tosse? s ou n\n",
      "Está com congestão nasal? s ou n\n",
      "Tem manchas pelo corpo? s ou n\n",
      "\n",
      "Diagnóstico: Dengue\n"
     ]
    }
   ],
   "source": [
    "def diagnostico(a, b, c, d, e):\n",
    "    dados = (a, b, c, d, e)\n",
    "    diags = {\"gripe1\":('s', 's', 's', 's', 'n'), \"gripe2\":('n', 's', 's', 's', 'n'), \"dengue\":('s', 's', 'n', 'n', 's'), \"desco\":('s', 's', 's', 's', 's')}\n",
    "    if dados == diags[\"gripe1\"]:\n",
    "        return \"Gripe\"\n",
    "    elif dados == diags[\"gripe2\"]:\n",
    "        return \"Gripe\"\n",
    "    elif dados == diags[\"dengue\"]:\n",
    "        return \"Dengue\"\n",
    "    elif dados == diags[\"desco\"]:\n",
    "        return \"Desconhecido - Investigar mais\"\n",
    "    else:\n",
    "        return \"Sem Doença\"\n",
    "    \n",
    "n = int(input(\"Consultas: \"))\n",
    "for i in range(n):\n",
    "    print(\"Sente dor no corpo? s ou n\\nVocê tem febre? s ou n\\nVocê tem tosse? s ou n\\nEstá com congestão nasal? s ou n\\nTem manchas pelo corpo? s ou n\\n\")\n",
    "    a, b, c, d, e = input(\"Consulta: \").split(\",\")    \n",
    "    print(f\"Diagnóstico: {diagnostico(a,b,c,d,e)}\")"
   ]
  },
  {
   "cell_type": "code",
   "execution_count": 12,
   "metadata": {},
   "outputs": [
    {
     "name": "stdout",
     "output_type": "stream",
     "text": [
      "Diagnóstico: Sem Doença\n"
     ]
    }
   ],
   "source": [
    "def diagnostico(a, b, c, d, e):\n",
    "    dados = (a, b, c, d, e)\n",
    "    diags = {\"gripe1\":('s', 's', 's', 's', 'n'), \"gripe2\":('n', 's', 's', 's', 'n'), \"dengue\":('s', 's', 'n', 'n', 's')}\n",
    "    if dados == diags[\"gripe1\"]:\n",
    "        return \"Gripe\"\n",
    "    elif dados == diags[\"gripe2\"]:\n",
    "        return \"Gripe\"\n",
    "    elif dados == diags[\"dengue\"]:\n",
    "        return \"Dengue\"\n",
    "    else:\n",
    "        return \"Sem Doença\"\n",
    "    \n",
    "\n",
    "a = input(\"Sente dor no corpo? s ou n\\n \")\n",
    "b = input(\"Você tem febre? s ou n\\n \")\n",
    "c = input(\"Você tem tosse? s ou n\\n \")\n",
    "d = input(\"Está com congestão nasal? s ou n\\n \")\n",
    "e = input(\"Tem manchas pelo corpo? s ou n\\n \")\n",
    "print(f\"Diagnóstico: {diagnostico(a,b,c,d,e)}\")"
   ]
  },
  {
   "cell_type": "code",
   "execution_count": 27,
   "metadata": {},
   "outputs": [
    {
     "name": "stdout",
     "output_type": "stream",
     "text": [
      "Diagnóstico: Gripe\n"
     ]
    }
   ],
   "source": [
    "def diagnostico(a,b,c,d,e):\n",
    "    lst = [a,b,c,d,e]\n",
    "    diag = 0\n",
    "    for i in lst:\n",
    "        if i == \"s\":\n",
    "            diag += 1\n",
    "        else:\n",
    "            diag += 0\n",
    "    \n",
    "    if diag == 2:\n",
    "        return \"Dengue\"\n",
    "    elif diag == 3 or diag == 4:\n",
    "        return \"Gripe\"\n",
    "    elif diag == 5:\n",
    "        return \"Desconhecido - Investigar\"\n",
    "    else:\n",
    "        return \"Sem doença\"\n",
    "\n",
    "n = int(input(\"Consultas: \"))\n",
    "for i in range(n):\n",
    "    a, b, c, d, e = input(\"Sente dor no corpo? s ou n\\nVocê tem febre? s ou n\\nVocê tem tosse? s ou n\\nEstá com congestão nasal? s ou n\\nTem manchas pelo corpo? s ou n\\n\").split(\",\")\n",
    "    print(f\"Diagnóstico: {diagnostico(a,b,c,d,e)}\")"
   ]
  },
  {
   "cell_type": "code",
   "execution_count": 29,
   "metadata": {},
   "outputs": [
    {
     "name": "stdout",
     "output_type": "stream",
     "text": [
      "Sem doença\n"
     ]
    }
   ],
   "source": [
    "perguntas = [\"Sente dor no corpo?\", \"Você tem febre?\", \"Você tem tosse?\", \"Está com congestão nasal?\", \"Tem manchas pelo corpo?\"]\n",
    "respostas = []\n",
    "for i in perguntas:\n",
    "    resposta = input(str(i))\n",
    "    respostas.append(resposta)\n",
    "\n",
    "form = \"\".join(respostas)\n",
    "\n",
    "doenca = {\"gripe1\":'ssssn', \"gripe2\":'nsssn', \"dengue\":'ssnns'}\n",
    "\n",
    "if form == doenca['gripe1']:\n",
    "    print(\"Diagnóstico: Gripe\")\n",
    "elif form == doenca['gripe2']:\n",
    "    print(\"Diagnóstico: Gripe\")\n",
    "elif form == doenca['dengue']:\n",
    "    print(\"Diganóstico: Dengue\")\n",
    "else:\n",
    "    print(\"Sem doença\")"
   ]
  },
  {
   "cell_type": "code",
   "execution_count": 12,
   "metadata": {},
   "outputs": [
    {
     "name": "stdout",
     "output_type": "stream",
     "text": [
      "Diagnóstico: Dengue\n"
     ]
    }
   ],
   "source": [
    "perguntas = [\"Sente dor no corpo?\", \"Você tem febre?\", \"Você tem tosse?\", \"Está com congestão nasal?\", \"Tem manchas pelo corpo?\"]\n",
    "hipo = {'ssssn':'Gripe', 'nsssn':'Gripe', 'ssnns':'Dengue', 'snnnn':'Sem Doença', 'nnnnn':'Sem doença', 'sssss': 'Investigar Mais'}\n",
    "\n",
    "form = [input(i) for i in perguntas]\n",
    "marcador = ''.join(form)\n",
    "\n",
    "print(f'Diagnóstico: {hipo[marcador]}')"
   ]
  },
  {
   "cell_type": "code",
   "execution_count": null,
   "metadata": {},
   "outputs": [],
   "source": [
    "perguntas = [\"Sente dor no corpo?\", \"Você tem febre?\",\"Você tem tosse?\", \"Está com congestão nasal?\", \"Tem manchas pelo corpo?\"]\n",
    "hipo = {30:'Gripe',14:'Dengue',25:'Sem Doença', 0:'Sem doença',31: 'Investigar Mais'}\n",
    "\n",
    "form = [\"1\" if input(i+\"\\n\") == 's' else \"0\" for i in perguntas]\n",
    "marcador = int((''.join(form)), 2)\n",
    "print(marcador)\n",
    "print(f'\\nDiagnóstico: {hipo[marcador]}')"
   ]
  },
  {
   "cell_type": "code",
   "execution_count": 3,
   "metadata": {},
   "outputs": [
    {
     "name": "stdout",
     "output_type": "stream",
     "text": [
      "\n",
      "Diagnóstico: Gripe\n"
     ]
    }
   ],
   "source": [
    "perguntas = [\"Sente dor no corpo?\", \"Você tem febre?\",\"Você tem tosse?\", \"Está com congestão nasal?\", \"Tem manchas pelo corpo?\"]\n",
    "hipo = {30:'Gripe',14:'Dengue',25:'Sem Doença', 0:'Sem doença', 31: 'Investigar Mais'}\n",
    "\n",
    "form = [str(int(input(i+\"\\n\")=='s')) for i in perguntas]\n",
    "marcador = int(''.join(form),2)\n",
    "if marcador not in hipo: marcador = 31\n",
    "print(f'\\nDiagnóstico: {hipo[marcador]}')"
   ]
  },
  {
   "cell_type": "markdown",
   "metadata": {},
   "source": [
    "#### 7)\n",
    "- Gerar as Tabuadas de 1 a 10:"
   ]
  },
  {
   "cell_type": "code",
   "execution_count": 5,
   "metadata": {},
   "outputs": [
    {
     "name": "stdout",
     "output_type": "stream",
     "text": [
      "\n",
      "Tabuada de 1:\n",
      "1 x 1 = 1\n",
      "1 x 2 = 2\n",
      "1 x 3 = 3\n",
      "1 x 4 = 4\n",
      "1 x 5 = 5\n",
      "1 x 6 = 6\n",
      "1 x 7 = 7\n",
      "1 x 8 = 8\n",
      "1 x 9 = 9\n",
      "1 x 10 = 10\n",
      "\n",
      "Tabuada de 2:\n",
      "2 x 1 = 2\n",
      "2 x 2 = 4\n",
      "2 x 3 = 6\n",
      "2 x 4 = 8\n",
      "2 x 5 = 10\n",
      "2 x 6 = 12\n",
      "2 x 7 = 14\n",
      "2 x 8 = 16\n",
      "2 x 9 = 18\n",
      "2 x 10 = 20\n",
      "\n",
      "Tabuada de 3:\n",
      "3 x 1 = 3\n",
      "3 x 2 = 6\n",
      "3 x 3 = 9\n",
      "3 x 4 = 12\n",
      "3 x 5 = 15\n",
      "3 x 6 = 18\n",
      "3 x 7 = 21\n",
      "3 x 8 = 24\n",
      "3 x 9 = 27\n",
      "3 x 10 = 30\n",
      "\n",
      "Tabuada de 4:\n",
      "4 x 1 = 4\n",
      "4 x 2 = 8\n",
      "4 x 3 = 12\n",
      "4 x 4 = 16\n",
      "4 x 5 = 20\n",
      "4 x 6 = 24\n",
      "4 x 7 = 28\n",
      "4 x 8 = 32\n",
      "4 x 9 = 36\n",
      "4 x 10 = 40\n",
      "\n",
      "Tabuada de 5:\n",
      "5 x 1 = 5\n",
      "5 x 2 = 10\n",
      "5 x 3 = 15\n",
      "5 x 4 = 20\n",
      "5 x 5 = 25\n",
      "5 x 6 = 30\n",
      "5 x 7 = 35\n",
      "5 x 8 = 40\n",
      "5 x 9 = 45\n",
      "5 x 10 = 50\n",
      "\n",
      "Tabuada de 6:\n",
      "6 x 1 = 6\n",
      "6 x 2 = 12\n",
      "6 x 3 = 18\n",
      "6 x 4 = 24\n",
      "6 x 5 = 30\n",
      "6 x 6 = 36\n",
      "6 x 7 = 42\n",
      "6 x 8 = 48\n",
      "6 x 9 = 54\n",
      "6 x 10 = 60\n",
      "\n",
      "Tabuada de 7:\n",
      "7 x 1 = 7\n",
      "7 x 2 = 14\n",
      "7 x 3 = 21\n",
      "7 x 4 = 28\n",
      "7 x 5 = 35\n",
      "7 x 6 = 42\n",
      "7 x 7 = 49\n",
      "7 x 8 = 56\n",
      "7 x 9 = 63\n",
      "7 x 10 = 70\n",
      "\n",
      "Tabuada de 8:\n",
      "8 x 1 = 8\n",
      "8 x 2 = 16\n",
      "8 x 3 = 24\n",
      "8 x 4 = 32\n",
      "8 x 5 = 40\n",
      "8 x 6 = 48\n",
      "8 x 7 = 56\n",
      "8 x 8 = 64\n",
      "8 x 9 = 72\n",
      "8 x 10 = 80\n",
      "\n",
      "Tabuada de 9:\n",
      "9 x 1 = 9\n",
      "9 x 2 = 18\n",
      "9 x 3 = 27\n",
      "9 x 4 = 36\n",
      "9 x 5 = 45\n",
      "9 x 6 = 54\n",
      "9 x 7 = 63\n",
      "9 x 8 = 72\n",
      "9 x 9 = 81\n",
      "9 x 10 = 90\n",
      "\n",
      "Tabuada de 10:\n",
      "10 x 1 = 10\n",
      "10 x 2 = 20\n",
      "10 x 3 = 30\n",
      "10 x 4 = 40\n",
      "10 x 5 = 50\n",
      "10 x 6 = 60\n",
      "10 x 7 = 70\n",
      "10 x 8 = 80\n",
      "10 x 9 = 90\n",
      "10 x 10 = 100\n"
     ]
    }
   ],
   "source": [
    "for i in range(1, 11):\n",
    "    print(f'\\nTabuada de {i}:')\n",
    "    for j in range(1, 11):        \n",
    "        print(f'{i} x {j} = {i * j}')"
   ]
  },
  {
   "cell_type": "markdown",
   "metadata": {},
   "source": [
    "#### 7-B)\n",
    "- Receber um número e exibir a tabuada dele:"
   ]
  },
  {
   "cell_type": "code",
   "execution_count": 1,
   "metadata": {},
   "outputs": [
    {
     "name": "stdout",
     "output_type": "stream",
     "text": [
      "Tabuada de 14:\n",
      "14 x 1 = 14\n",
      "14 x 2 = 28\n",
      "14 x 3 = 42\n",
      "14 x 4 = 56\n",
      "14 x 5 = 70\n",
      "14 x 6 = 84\n",
      "14 x 7 = 98\n",
      "14 x 8 = 112\n",
      "14 x 9 = 126\n",
      "14 x 10 = 140\n"
     ]
    }
   ],
   "source": [
    "n = int(input(\"Insira um número:\"))\n",
    "print(f'Tabuada de {n}:')\n",
    "for i in range(1,11):\n",
    "    print(f'{n} x {i} = {n * i}')"
   ]
  },
  {
   "cell_type": "markdown",
   "metadata": {},
   "source": [
    "#### 8)\n",
    "- Converter Graus Fahrenheit (°F) para Graus Celsius (°C)"
   ]
  },
  {
   "cell_type": "code",
   "execution_count": 1,
   "metadata": {},
   "outputs": [
    {
     "name": "stdout",
     "output_type": "stream",
     "text": [
      "32°F = 0°C\n",
      "212°F = 100°C\n",
      "392°F = 200°C\n"
     ]
    }
   ],
   "source": [
    "# Print na Função:\n",
    "def contemp(fahrenheit):\n",
    "    celsius = (5 * (fahrenheit - 32)) / 9\n",
    "    print(f'{fahrenheit:.0f}°F = {celsius:.0f}°C')\n",
    "    \n",
    "n = int(input())\n",
    "for i in range(n):\n",
    "    contemp(int(input()))"
   ]
  },
  {
   "cell_type": "code",
   "execution_count": 3,
   "metadata": {},
   "outputs": [
    {
     "name": "stdout",
     "output_type": "stream",
     "text": [
      "32°F = 0°C\n",
      "212°F = 100°C\n",
      "392°F = 200°C\n"
     ]
    }
   ],
   "source": [
    "# Print fora da Função:\n",
    "def contemp(fahrenheit):\n",
    "    celsius = (5 * (fahrenheit - 32)) / 9\n",
    "    return celsius\n",
    "\n",
    "n = int(input())\n",
    "for i in range(n):\n",
    "    f = int(input())\n",
    "    c = contemp(f)\n",
    "    print(f'{f:.0f}°F = {c:.0f}°C')"
   ]
  },
  {
   "cell_type": "code",
   "execution_count": 7,
   "metadata": {},
   "outputs": [
    {
     "name": "stdout",
     "output_type": "stream",
     "text": [
      "Celsius = 0°C\n"
     ]
    }
   ],
   "source": [
    "print(f\"Celsius = {((((int(input('Fahrenheit: ')))-32)*5)/9):.0f}°\")"
   ]
  }
 ],
 "metadata": {
  "interpreter": {
   "hash": "02a0274d8add694ae22da6a9bb5eb47c091c997a6aad4ecec77bb5dd18990dd9"
  },
  "kernelspec": {
   "display_name": "Python 3.9.9 64-bit",
   "language": "python",
   "name": "python3"
  },
  "language_info": {
   "codemirror_mode": {
    "name": "ipython",
    "version": 3
   },
   "file_extension": ".py",
   "mimetype": "text/x-python",
   "name": "python",
   "nbconvert_exporter": "python",
   "pygments_lexer": "ipython3",
   "version": "3.9.9"
  },
  "orig_nbformat": 4
 },
 "nbformat": 4,
 "nbformat_minor": 2
}
