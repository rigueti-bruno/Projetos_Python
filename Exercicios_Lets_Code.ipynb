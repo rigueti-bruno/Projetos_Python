{
 "cells": [
  {
   "cell_type": "markdown",
   "metadata": {},
   "source": [
    "#### 1)\n",
    "- Gerar Lista com 10 números aleatórios entre 1 e 100\n",
    "- Imprimir os valores máximo, mínimo, média e soma dos valores da lista"
   ]
  },
  {
   "cell_type": "code",
   "execution_count": 10,
   "metadata": {},
   "outputs": [
    {
     "name": "stdout",
     "output_type": "stream",
     "text": [
      "Lista: [20, 22, 11, 13, 68, 96, 5, 98, 56, 61]\n",
      "Medidas:\n",
      "Menor = 5\n",
      "Maior = 98\n",
      "Media = 45.0\n",
      "Soma = 450"
     ]
    }
   ],
   "source": [
    "import random as rd\n",
    "import statistics as st\n",
    "\n",
    "# Gerando a Lista Aleatória:\n",
    "\n",
    "num = []\n",
    "for i in range(10):\n",
    "    i = int(round(rd.uniform(1, 100), 0))\n",
    "    num.append(i)\n",
    "\n",
    "# Calculando as Medidas:\n",
    "\n",
    "val_min = min(num) # menor valor\n",
    "val_mai= max(num) # maior valor\n",
    "med = st.fmean(num) # media\n",
    "soma = sum(num) # soma\n",
    "\n",
    "# Gerando o Resultado:\n",
    "print(f\"Lista: {num}\")\n",
    "print(f\"Medidas:\\nMenor = {val_min}\\nMaior = {val_mai}\\nMedia = {med}\\nSoma = {soma}\", end=\"\")"
   ]
  },
  {
   "cell_type": "markdown",
   "metadata": {},
   "source": [
    "#### 2)\n",
    "- Receber uma Expressão Numérica e Executar o seu Cálculo\n",
    "- Simplificar o resultado"
   ]
  },
  {
   "cell_type": "code",
   "execution_count": 26,
   "metadata": {},
   "outputs": [
    {
     "name": "stdout",
     "output_type": "stream",
     "text": [
      "5/4 = 5/4\n",
      "-1/4 = -1/4\n",
      "12/18 = 2/3\n",
      "4/6 = 2/3\n"
     ]
    }
   ],
   "source": [
    "def calcexp(express):\n",
    "    import math as mt\n",
    "\n",
    "    # Obetendo a Expressão:\n",
    "    express = express.split()\n",
    "\n",
    "    # Decompondo a Expressão:\n",
    "    part1 = express[0].split(\"/\")\n",
    "    part2 = express[len(express)-1].split(\"/\")\n",
    "    num1 = int(part1[0])\n",
    "    den1 = int(part1[1])\n",
    "    num2 = int(part2[0])\n",
    "    den2 = int(part2[1])\n",
    "  \n",
    "    # Realizando os Cálculos:\n",
    "    if express[1] == '+':\n",
    "        denom = mt.lcm(den1, den2)\n",
    "        nume = int((denom/den1*num1) + (denom/den2*num2))       \n",
    "    if express[1] == '-':\n",
    "        denom = mt.lcm(den1, den2)\n",
    "        nume = int((denom/den1*num1) - (denom/den2*num2))        \n",
    "    if express[1] == '*':\n",
    "        denom = den1 * den2\n",
    "        nume = num1 * num2        \n",
    "    if express[1] == '/':\n",
    "        denom = den1 * num2\n",
    "        nume = num1 * den2        \n",
    "        \n",
    "    # Simplificando as Partes:\n",
    "    mdc = mt.gcd(nume, denom)\n",
    "\n",
    "    if mdc != 0:\n",
    "        denoms = int(denom/mdc)\n",
    "        numes = int(nume/mdc)        \n",
    "    else:\n",
    "        denoms = denom\n",
    "        numes = nume\n",
    "        \n",
    "    # Gerando o Resultado:\n",
    "    resul = str(nume) + \"/\" + str(denom) + \" = \" + str(numes) + \"/\" + str(denoms)\n",
    "    return resul\n",
    "    \n",
    "print(calcexp(\"1/2 + 3/4\"))\n",
    "print(calcexp(\"1/2 - 3/4\"))\n",
    "print(calcexp(\"2/3 * 6/6\"))\n",
    "print(calcexp(\"1/2 / 3/4\"))\n",
    "\n"
   ]
  },
  {
   "cell_type": "code",
   "execution_count": null,
   "metadata": {},
   "outputs": [],
   "source": [
    "# Versão Alternativa:\n",
    "\n",
    "def calcexp(express):\n",
    "    import math as mt\n",
    "\n",
    "    # Obetendo a Expressão:\n",
    "    express = express.split()\n",
    "\n",
    "    # Decompondo a Expressão:\n",
    "    part1 = express[0].split(\"/\")\n",
    "    part2 = express[len(express)-1].split(\"/\")\n",
    "    num1 = int(part1[0])\n",
    "    den1 = int(part1[1])\n",
    "    num2 = int(part2[0])\n",
    "    den2 = int(part2[1])\n",
    "  \n",
    "    # Realizando os Cálculos:\n",
    "    if express[1] == '+':\n",
    "        denom = den1 * den2\n",
    "        nume = int((denom / den1 * num1) + (denom / den2 * num2))\n",
    "    if express[1] == '-':\n",
    "        denom = den1 * den2\n",
    "        nume = int((denom / den1 * num1) - (denom / den2 * num2))\n",
    "    if express[1] == '*':\n",
    "        denom = den1 * den2\n",
    "        nume = num1 * num2        \n",
    "    if express[1] == '/':\n",
    "        denom = den1 * num2\n",
    "        nume = num1 * den2        \n",
    "        \n",
    "    # Simplificando as Partes:\n",
    "    mdc = mt.gcd(nume, denom)\n",
    "\n",
    "    if mdc != 0:\n",
    "        denoms = int(denom/mdc)\n",
    "        numes = int(nume/mdc)        \n",
    "    else:\n",
    "        denoms = denom\n",
    "        numes = nume\n",
    "        \n",
    "    # Gerando o Resultado:\n",
    "    resul = str(nume) + \"/\" + str(denom) + \" = \" + str(numes) + \"/\" + str(denoms)\n",
    "    return resul\n",
    "    \n",
    "# Obtendo o Resultado:\n",
    "n = int(input())\n",
    "for i in range(n):\n",
    "    print(calcexp(input()))"
   ]
  },
  {
   "cell_type": "markdown",
   "metadata": {},
   "source": [
    "#### 3)\n",
    "- Criar Dicionário que receba e armazene nome, idade e email de uma pessoa:"
   ]
  },
  {
   "cell_type": "code",
   "execution_count": 9,
   "metadata": {},
   "outputs": [
    {
     "name": "stdout",
     "output_type": "stream",
     "text": [
      "{'nome': 'Bruno', 'idade': 35, 'email': 'abc@def.br'}\n"
     ]
    }
   ],
   "source": [
    "def dicont(nome, idade, email):\n",
    "    contat = {'nome': nome, 'idade': idade, 'email': email}\n",
    "    return contat\n",
    "\n",
    "print(dicont('Bruno', 35, 'abc@def.br'))"
   ]
  },
  {
   "cell_type": "code",
   "execution_count": 10,
   "metadata": {},
   "outputs": [
    {
     "name": "stdout",
     "output_type": "stream",
     "text": [
      "{'Bruno': (35, 'abc@def.br')}\n"
     ]
    }
   ],
   "source": [
    "def dicont(nome, idade, email):\n",
    "    contat = {}\n",
    "    contat[nome] = idade, email\n",
    "    return contat\n",
    "\n",
    "print(dicont('Bruno', 35, 'abc@def.br'))"
   ]
  },
  {
   "cell_type": "code",
   "execution_count": 12,
   "metadata": {},
   "outputs": [
    {
     "name": "stdout",
     "output_type": "stream",
     "text": [
      "{'nome': 'Bruno', 'idade': ' 35', 'email': ' abc@def.br'}\n"
     ]
    }
   ],
   "source": [
    "def dicont(dados):\n",
    "    nome = dados[0]\n",
    "    idade = dados[1]\n",
    "    email = dados[2]\n",
    "    contat = {'nome': nome, 'idade': idade, 'email': email}\n",
    "    return contat\n",
    "\n",
    "print(dicont(input().split(',')))"
   ]
  },
  {
   "cell_type": "code",
   "execution_count": 11,
   "metadata": {},
   "outputs": [
    {
     "name": "stdout",
     "output_type": "stream",
     "text": [
      "{'Bruno': (' 35', ' abc@def.br')}\n"
     ]
    }
   ],
   "source": [
    "def dicont(dados):\n",
    "    contat = {}\n",
    "    nome = dados[0]\n",
    "    idade = dados[1]\n",
    "    email = dados[2]\n",
    "    contat[nome] = idade, email\n",
    "    return contat\n",
    "\n",
    "print(dicont(input().split(',')))"
   ]
  },
  {
   "cell_type": "code",
   "execution_count": 14,
   "metadata": {},
   "outputs": [
    {
     "name": "stdout",
     "output_type": "stream",
     "text": [
      "{'Bruno': (' 35', ' abc@def.br')}\n"
     ]
    }
   ],
   "source": [
    "def dicont(dados):\n",
    "    contat = {}\n",
    "    nome, idade, email = dados\n",
    "    contat[nome] = idade, email\n",
    "    return contat\n",
    "\n",
    "print(dicont(input().split(',')))"
   ]
  }
 ],
 "metadata": {
  "interpreter": {
   "hash": "02a0274d8add694ae22da6a9bb5eb47c091c997a6aad4ecec77bb5dd18990dd9"
  },
  "kernelspec": {
   "display_name": "Python 3.9.9 64-bit",
   "language": "python",
   "name": "python3"
  },
  "language_info": {
   "codemirror_mode": {
    "name": "ipython",
    "version": 3
   },
   "file_extension": ".py",
   "mimetype": "text/x-python",
   "name": "python",
   "nbconvert_exporter": "python",
   "pygments_lexer": "ipython3",
   "version": "3.9.9"
  },
  "orig_nbformat": 4
 },
 "nbformat": 4,
 "nbformat_minor": 2
}
