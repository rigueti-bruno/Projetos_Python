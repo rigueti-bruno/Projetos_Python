{
 "cells": [
  {
   "cell_type": "markdown",
   "metadata": {},
   "source": [
    "#### 1)\n",
    "- Gerar Lista com 10 números aleatórios entre 1 e 100\n",
    "- Imprimir os valores máximo, mínimo, média e soma dos valores da lista"
   ]
  },
  {
   "cell_type": "code",
   "execution_count": 10,
   "metadata": {},
   "outputs": [
    {
     "name": "stdout",
     "output_type": "stream",
     "text": [
      "Lista: [20, 22, 11, 13, 68, 96, 5, 98, 56, 61]\n",
      "Medidas:\n",
      "Menor = 5\n",
      "Maior = 98\n",
      "Media = 45.0\n",
      "Soma = 450"
     ]
    }
   ],
   "source": [
    "import random as rd\n",
    "import statistics as st\n",
    "\n",
    "# Gerando a Lista Aleatória:\n",
    "\n",
    "num = []\n",
    "for i in range(10):\n",
    "    i = int(round(rd.uniform(1, 100), 0))\n",
    "    num.append(i)\n",
    "\n",
    "# Calculando as Medidas:\n",
    "\n",
    "val_min = min(num) # menor valor\n",
    "val_mai= max(num) # maior valor\n",
    "med = st.fmean(num) # media\n",
    "soma = sum(num) # soma\n",
    "\n",
    "# Gerando o Resultado:\n",
    "print(f\"Lista: {num}\")\n",
    "print(f\"Medidas:\\nMenor = {val_min}\\nMaior = {val_mai}\\nMedia = {med}\\nSoma = {soma}\", end=\"\")"
   ]
  }
 ],
 "metadata": {
  "interpreter": {
   "hash": "02a0274d8add694ae22da6a9bb5eb47c091c997a6aad4ecec77bb5dd18990dd9"
  },
  "kernelspec": {
   "display_name": "Python 3.9.9 64-bit",
   "language": "python",
   "name": "python3"
  },
  "language_info": {
   "codemirror_mode": {
    "name": "ipython",
    "version": 3
   },
   "file_extension": ".py",
   "mimetype": "text/x-python",
   "name": "python",
   "nbconvert_exporter": "python",
   "pygments_lexer": "ipython3",
   "version": "3.9.9"
  },
  "orig_nbformat": 4
 },
 "nbformat": 4,
 "nbformat_minor": 2
}
