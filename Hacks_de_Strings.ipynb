{
 "cells": [
  {
   "cell_type": "markdown",
   "metadata": {},
   "source": [
    "## 7 Truques que todo iniciante de Python deve saber"
   ]
  },
  {
   "cell_type": "markdown",
   "metadata": {},
   "source": [
    "### 1 - Criar uma string a partir de elementos de uma lista:"
   ]
  },
  {
   "cell_type": "code",
   "execution_count": 2,
   "metadata": {},
   "outputs": [
    {
     "name": "stdout",
     "output_type": "stream",
     "text": [
      "BlogdaPythonAcademy\n",
      "Blog da Python Academy\n"
     ]
    }
   ],
   "source": [
    "lista = [\"Blog\", \"da\", \"Python\", \"Academy\"]\n",
    "\n",
    "print(''.join(lista))\n",
    "# o método .join() concatena as strings da lista\n",
    "# '' - espaço entre as strings da lista\n",
    "\n",
    "print(' '.join(lista))\n",
    "# ' ' - colocará um espaço entre as strings assim como entre as aspas"
   ]
  },
  {
   "cell_type": "markdown",
   "metadata": {},
   "source": [
    "### 2 - Armazenar os elementos de uma lista diretamente em variáveis:"
   ]
  },
  {
   "cell_type": "code",
   "execution_count": 3,
   "metadata": {},
   "outputs": [
    {
     "name": "stdout",
     "output_type": "stream",
     "text": [
      "-35 2 43\n"
     ]
    }
   ],
   "source": [
    "lista = [-35,2,43]\n",
    "minimo, meio, maximo = lista\n",
    "# basta atribuir a lista às variáveis na mesma linha, com as variaveis separadas por vírgulas\n",
    "# as variáveis devem ser na mesma quantidade que os elementos da lista\n",
    "\n",
    "print(minimo, meio, maximo)"
   ]
  },
  {
   "cell_type": "markdown",
   "metadata": {},
   "source": [
    "### 3 - Imprimir uma string n vezes:"
   ]
  },
  {
   "cell_type": "code",
   "execution_count": 4,
   "metadata": {},
   "outputs": [
    {
     "name": "stdout",
     "output_type": "stream",
     "text": [
      "Python\n",
      "Python\n",
      "Python\n",
      "Python\n",
      "Python\n",
      "Python\n",
      "\n"
     ]
    }
   ],
   "source": [
    "print(\"Python\\n\" * 6)\n",
    "# * 6 - multiplica a string pela quantidade de vezes (6) que ela será impressa"
   ]
  },
  {
   "cell_type": "markdown",
   "metadata": {},
   "source": [
    "### 4 - Atribuir múltiplos valores a múltiplas variáveis em apenas 1 linha:"
   ]
  },
  {
   "cell_type": "code",
   "execution_count": 5,
   "metadata": {},
   "outputs": [
    {
     "name": "stdout",
     "output_type": "stream",
     "text": [
      "201 HTTP CREATED False\n"
     ]
    }
   ],
   "source": [
    "codigo, nome, erro = 201, \"HTTP CREATED\", False\n",
    "# o número de variáveis deve ser o mesmo de valores a serem atribuídos a elas\n",
    "# os valores devem vir na mesma ordem que se deseja atribuir às variáveis\n",
    "\n",
    "print(codigo, nome, erro)"
   ]
  },
  {
   "cell_type": "markdown",
   "metadata": {},
   "source": [
    "### 5 - Formatar strings usando f-string:"
   ]
  },
  {
   "cell_type": "code",
   "execution_count": 6,
   "metadata": {},
   "outputs": [
    {
     "name": "stdout",
     "output_type": "stream",
     "text": [
      "Código: 201\n",
      "Nome: HTTP CREATED\n",
      "Erro: False\n"
     ]
    }
   ],
   "source": [
    "codigo, nome, erro = 201, \"HTTP CREATED\", False\n",
    "\n",
    "print(f'Código: {codigo}\\nNome: {nome}\\nErro: {erro}')\n",
    "# basta colocar um f antes das '' e colocar as variáveis entre {}"
   ]
  },
  {
   "cell_type": "markdown",
   "metadata": {},
   "source": [
    "### 6 - Reverter strings usando Fatiamento de Listas:"
   ]
  },
  {
   "cell_type": "code",
   "execution_count": 7,
   "metadata": {},
   "outputs": [
    {
     "name": "stdout",
     "output_type": "stream",
     "text": [
      "String reversa: elbat eht no si koob ehT\n"
     ]
    }
   ],
   "source": [
    "string = \"The book is on the table\"\n",
    "\n",
    "print(f'String reversa: {string[::-1]}')\n",
    "# incluir o parâmetro [::-1] ao lado da string"
   ]
  },
  {
   "cell_type": "markdown",
   "metadata": {},
   "source": [
    "### 7 - Trocar o valor de 2 variáveis com apenas uma linha de código:"
   ]
  },
  {
   "cell_type": "code",
   "execution_count": null,
   "metadata": {},
   "outputs": [],
   "source": [
    "x, y = 5, 10\n",
    "print(f\"Antes: x = {x}, y = {y}\")\n",
    "\n",
    "x, y = y, x # basta atribuir as variáveis na ordem inversa das originais\n",
    "print(f\"Depois: x = {x}, y = {y}\")"
   ]
  }
 ],
 "metadata": {
  "interpreter": {
   "hash": "d37f61ffe7d685a1ac48b1d7774f291cdee1834edd502e25b8d0651861a5e209"
  },
  "kernelspec": {
   "display_name": "Python 3.9.9 64-bit",
   "language": "python",
   "name": "python3"
  },
  "language_info": {
   "codemirror_mode": {
    "name": "ipython",
    "version": 3
   },
   "file_extension": ".py",
   "mimetype": "text/x-python",
   "name": "python",
   "nbconvert_exporter": "python",
   "pygments_lexer": "ipython3",
   "version": "3.12.2"
  },
  "orig_nbformat": 4
 },
 "nbformat": 4,
 "nbformat_minor": 2
}
