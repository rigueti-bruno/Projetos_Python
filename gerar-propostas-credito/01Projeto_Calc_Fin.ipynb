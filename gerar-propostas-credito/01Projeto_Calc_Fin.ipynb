{
 "cells": [
  {
   "cell_type": "markdown",
   "metadata": {},
   "source": [
    "O Presente projeto visa o desenvolvimento de uma ferramenta prática e rápida para a simulação de projetos de financiamento/operações de crédito - sua Análise Quantitativa."
   ]
  },
  {
   "cell_type": "markdown",
   "metadata": {},
   "source": [
    "0 - Mensagens e Instruções Iniciais:"
   ]
  },
  {
   "cell_type": "code",
   "execution_count": null,
   "metadata": {},
   "outputs": [],
   "source": [
    "from numpy import log as ln\n",
    "print('Ferramenta a ser utlizada para o cálculo de operações de financiamento.')\n",
    "print('Instruções: \\n- Insira todos os dados solicitados \\n- Para o dado que não possuir, preencha 0')"
   ]
  },
  {
   "cell_type": "markdown",
   "metadata": {},
   "source": [
    "1 - Inputs para as Operações:"
   ]
  },
  {
   "cell_type": "code",
   "execution_count": 31,
   "metadata": {},
   "outputs": [],
   "source": [
    "a = float(input(\"Insira a Parcela a ser paga: \"))\n",
    "p = float(input(\"Insira o Valor do Crédito a ser tomado: \"))\n",
    "t = float(input(\"Insira a Taxa de Juros da Operação: \"))\n",
    "i = t / 100\n",
    "n = float(input(\"Insira o Prazo da Operação: \"))\n",
    "#print(i)"
   ]
  },
  {
   "cell_type": "markdown",
   "metadata": {},
   "source": [
    "2 - Cálculo da Parcela:"
   ]
  },
  {
   "cell_type": "code",
   "execution_count": null,
   "metadata": {},
   "outputs": [],
   "source": [
    "if a == 0:\n",
    "    \n",
    "    \n",
    "    x = (1 + i) ** n\n",
    "    y = i * x\n",
    "    z = x - 1\n",
    "    A = p * (y / z)\n",
    "    #print(x, y, z, k, l, A)\n",
    "    #print(n * A)\n",
    "    f = n * A # Valor Total a Pagar\n",
    "    #print(f)\n",
    "    j = f - p # Juros da Operação\n",
    "    \n",
    "    # Resultado:\n",
    "    print('Condições da Operação:'f'\\n{int(n)} Parcelas de {round(A, 2)}' f'\\nValor Tomado de {round(p, 2)}' f'\\nValor Total a Pagar de {round(f, 2)}' f'\\nJuros a serem pagos de {round(j, 2)}')"
   ]
  },
  {
   "cell_type": "markdown",
   "metadata": {},
   "source": [
    "3 - Cálculo do Valor Tomado:"
   ]
  },
  {
   "cell_type": "code",
   "execution_count": null,
   "metadata": {},
   "outputs": [],
   "source": [
    "if p == 0:\n",
    "    P = a * (z / y)\n",
    "    \n",
    "    x = (1 + i) ** n\n",
    "    y = i * x\n",
    "    z = x - 1\n",
    "    \n",
    "    f = n * a # Valor Total a Pagar\n",
    "    j = f - P # Juros da Operação\n",
    "    \n",
    "    print('Condições da Operação:'f'\\n{int(n)} Parcelas de {round(a, 2)}' f'\\nValor Tomado de {round(P, 2)}' f'\\nValor Total a Pagar de {round(f, 2)}' f'\\nJuros a serem pagos de {round(j, 2)}')\n",
    "    "
   ]
  },
  {
   "cell_type": "markdown",
   "metadata": {},
   "source": [
    "4 - Cálculo do Prazo da Operação:"
   ]
  },
  {
   "cell_type": "code",
   "execution_count": null,
   "metadata": {},
   "outputs": [],
   "source": [
    "if n == 0:\n",
    "    \n",
    "    #print(N)\n",
    "    \n",
    "    x = a - (p * i)\n",
    "    #print(x)\n",
    "    \n",
    "    z = a / x\n",
    "    #print(z)\n",
    "    lz = ln(z)\n",
    "    #print(lz)\n",
    "    \n",
    "    y =  1 + i\n",
    "    #print(y)\n",
    "    ly = ln(y)\n",
    "    #print(ly)\n",
    "    N = lz / ly\n",
    "    f = N * a # Valor Total a Pagar\n",
    "    j = f - p # Juros da Operação\n",
    "    \n",
    "    print('Condições da Operação:'f'\\n{int(N)} Parcelas de {round(a, 2)}' f'\\nValor Tomado de {round(p, 2)}' f'\\nValor Total a Pagar de {round(f, 2)}' f'\\nJuros a serem pagos de {round(j, 2)}')\n",
    "    "
   ]
  },
  {
   "cell_type": "markdown",
   "metadata": {},
   "source": [
    "5 - Cálculo da Taxa da Operação:"
   ]
  },
  {
   "cell_type": "code",
   "execution_count": null,
   "metadata": {},
   "outputs": [],
   "source": [
    "f = n * a # Valor Total a Pagar\n",
    "if i == 0 and f > p:\n",
    "\n",
    "    k = 0.0001\n",
    "    I = 1    \n",
    "    b = 0\n",
    "    \n",
    "    while I > 0 and b != a:\n",
    "            \n",
    "        x = (1 + I) ** n\n",
    "        y = I * x\n",
    "        z = x - 1\n",
    "        b = round((p * (y / z)),0)\n",
    "        #b = p * (y / z)\n",
    "        #print(b)\n",
    "        I -= k\n",
    "        x = round((I * 100),2)   \n",
    "    f = n * b\n",
    "    j = f - p # Juros da Operação\n",
    "    print('Condições da Operação:'f'\\n{int(n)} Parcelas de {round(b, 2)}' f'\\nValor Tomado de {round(p, 2)}' f'\\nValor Total a Pagar de {round(f, 2)}' f'\\nJuros a serem pagos de {round(j, 2)}'f'\\nTaxa de Juros: {x}')"
   ]
  },
  {
   "cell_type": "markdown",
   "metadata": {},
   "source": [
    "6 - Condições Gerais:"
   ]
  },
  {
   "cell_type": "code",
   "execution_count": 25,
   "metadata": {},
   "outputs": [
    {
     "name": "stdout",
     "output_type": "stream",
     "text": [
      "Condições da Operação:\n",
      "2 Parcelas de 499.99\n",
      "Valor Tomado de 900.0\n",
      "Valor Total a Pagar de 999.98\n",
      "Juros a serem pagos de 99.98\n",
      "Taxa de Juros: 7.32\n"
     ]
    }
   ],
   "source": [
    "if a != 0 and p != 0 and i != 0 and n != 0:\n",
    "    f = n * a # Valor Total a Pagar\n",
    "    j = f - p # Juros da Operação\n",
    "\n",
    "print('Condições da Operação:'f'\\n{int(n)} Parcelas de {round(a, 2)}' f'\\nValor Tomado de {round(p, 2)}' f'\\nValor Total a Pagar de {round(f, 2)}' f'\\nJuros a serem pagos de {round(j, 2)}'f'\\nTaxa de Juros: {t}')"
   ]
  }
 ],
 "metadata": {
  "interpreter": {
   "hash": "d37f61ffe7d685a1ac48b1d7774f291cdee1834edd502e25b8d0651861a5e209"
  },
  "kernelspec": {
   "display_name": "Python 3.9.9 64-bit",
   "language": "python",
   "name": "python3"
  },
  "language_info": {
   "codemirror_mode": {
    "name": "ipython",
    "version": 3
   },
   "file_extension": ".py",
   "mimetype": "text/x-python",
   "name": "python",
   "nbconvert_exporter": "python",
   "pygments_lexer": "ipython3",
   "version": "3.9.9"
  },
  "orig_nbformat": 4
 },
 "nbformat": 4,
 "nbformat_minor": 2
}
